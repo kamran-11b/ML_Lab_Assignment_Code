{
 "cells": [
  {
   "cell_type": "markdown",
   "metadata": {},
   "source": [
    "# Topic: Naive Bayes Classifier\n",
    "\n",
    "Md Kamran Ahmad\n",
    "\n",
    "ID:160103020033"
   ]
  },
  {
   "cell_type": "code",
   "execution_count": 1,
   "metadata": {},
   "outputs": [],
   "source": [
    "import numpy as np\n",
    "import matplotlib.pyplot as plt"
   ]
  },
  {
   "cell_type": "code",
   "execution_count": 2,
   "metadata": {},
   "outputs": [],
   "source": [
    "np.random.seed(88)"
   ]
  },
  {
   "cell_type": "code",
   "execution_count": 3,
   "metadata": {},
   "outputs": [],
   "source": [
    "def get_training_examples():\n",
    "    X1 = np.array([[8, 7], [4, 10], [9, 7], [7, 10], [9, 6], [4, 8], [10, 10]])\n",
    "    y1 = np.ones(len(X1))\n",
    "    X2 = np.array([[2, 7], [8, 3], [7, 5], [4, 4],  [4, 6], [1, 3], [2, 5]])\n",
    "    y2 = np.ones(len(X2)) * -1\n",
    "    return X1, y1, X2, y2"
   ]
  },
  {
   "cell_type": "code",
   "execution_count": 6,
   "metadata": {},
   "outputs": [
    {
     "name": "stdout",
     "output_type": "stream",
     "text": [
      "[[ 8  7]\n",
      " [ 4 10]\n",
      " [ 9  7]\n",
      " [ 7 10]\n",
      " [ 9  6]\n",
      " [ 4  8]\n",
      " [10 10]\n",
      " [ 2  7]\n",
      " [ 8  3]\n",
      " [ 7  5]\n",
      " [ 4  4]\n",
      " [ 4  6]\n",
      " [ 1  3]\n",
      " [ 2  5]]\n",
      "[ 1.  1.  1.  1.  1.  1.  1. -1. -1. -1. -1. -1. -1. -1.]\n"
     ]
    }
   ],
   "source": [
    "X1, y1, X2, y2= get_training_examples()\n",
    "x = np.vstack((X1, X2))\n",
    "y = np.hstack((y1, y2))\n",
    "\n",
    "print(x)\n",
    "print(y)"
   ]
  },
  {
   "cell_type": "code",
   "execution_count": 7,
   "metadata": {},
   "outputs": [
    {
     "data": {
      "image/png": "[encoded data removed]",
      "text/plain": [
       "<Figure size 432x288 with 1 Axes>"
      ]
     },
     "metadata": {
      "needs_background": "light"
     },
     "output_type": "display_data"
    }
   ],
   "source": [
    "plt.scatter(x[:,0],x[:,1],marker='*', c=y) \n",
    "plt.show()"
   ]
  },
  {
   "cell_type": "code",
   "execution_count": 8,
   "metadata": {},
   "outputs": [
    {
     "name": "stdout",
     "output_type": "stream",
     "text": [
      "[[ 1.  8.  7.]\n",
      " [ 1.  4. 10.]\n",
      " [ 1.  9.  7.]\n",
      " [ 1.  7. 10.]\n",
      " [ 1.  9.  6.]\n",
      " [ 1.  4.  8.]\n",
      " [ 1. 10. 10.]\n",
      " [ 1.  2.  7.]\n",
      " [ 1.  8.  3.]\n",
      " [ 1.  7.  5.]\n",
      " [ 1.  4.  4.]\n",
      " [ 1.  4.  6.]\n",
      " [ 1.  1.  3.]\n",
      " [ 1.  2.  5.]]\n"
     ]
    }
   ],
   "source": [
    "# add a column with value 1 at the first position.\n",
    "Xa= np.c_[np.ones(x.shape[0]), x]\n",
    "print(Xa)"
   ]
  },
  {
   "cell_type": "code",
   "execution_count": 9,
   "metadata": {},
   "outputs": [],
   "source": [
    "#calculate weighted sum\n",
    "def linear_regression(x,w):\n",
    "    val=0\n",
    "    for ix,iy in zip(x,w):\n",
    "        val+=ix*iy\n",
    "    return val\n",
    "\n",
    "\n",
    "#decide -1 or 1\n",
    "def activate(val):\n",
    "    return np.sign(val)\n",
    "\n",
    "\n",
    "def predict(X, w):\n",
    "    hp=[]\n",
    "    for x in X: \n",
    "        lr=linear_regression(x,w)\n",
    "        h=activate(lr)\n",
    "        hp.append(h)\n",
    "    return hp\n",
    "\n",
    "\n",
    "def get_miss_indexes(py, y):\n",
    "    miss=[]\n",
    "    for i in range(len(y)):\n",
    "        if py[i]!=y[i]:\n",
    "            miss.append(i)\n",
    "    return miss\n",
    "\n",
    "\n",
    "def perceptron_train(X, y):\n",
    "    w = np.random.rand(3)\n",
    "    py=predict(X,w)\n",
    "    miss=get_miss_indexes(py,y) \n",
    "    while len(miss)>0:\n",
    "        rnd=np.random.choice(miss)\n",
    "        rx=X[rnd]\n",
    "        ry=y[rnd]\n",
    "        w=w+rx*ry\n",
    "        \n",
    "        py=predict(X,w)\n",
    "        miss=get_miss_indexes(py,y)\n",
    "    return w"
   ]
  },
  {
   "cell_type": "code",
   "execution_count": 10,
   "metadata": {},
   "outputs": [],
   "source": [
    "#a variation. using epoch and learning rate\n",
    "def perceptron_train2(X, y):\n",
    "    w = np.random.rand(3)\n",
    "    py=predict(X,w)\n",
    "    miss=get_miss_indexes(py,y) \n",
    "    eta=0.1\n",
    "    epoch=50000\n",
    "    for i in range(epoch):\n",
    "        if len(miss)==0:             #all data are classified.\n",
    "            break\n",
    "        rnd=np.random.choice(miss)\n",
    "        rx=X[rnd]\n",
    "        ry=y[rnd]\n",
    "        w=w+eta*rx*ry\n",
    "        \n",
    "        py=predict(X,w)\n",
    "        miss=get_miss_indexes(py,y)\n",
    "        \n",
    "    return w"
   ]
  },
  {
   "cell_type": "code",
   "execution_count": 11,
   "metadata": {},
   "outputs": [
    {
     "name": "stdout",
     "output_type": "stream",
     "text": [
      "[0.64755105 0.50714969 0.52834138]\n",
      "[1.0, 1.0, 1.0, 1.0, 1.0, 1.0, 1.0, 1.0, 1.0, 1.0, 1.0, 1.0, 1.0, 1.0]\n"
     ]
    }
   ],
   "source": [
    "w = np.random.rand(3)\n",
    "print(w)\n",
    "py=predict(Xa,w)\n",
    "print(py)"
   ]
  },
  {
   "cell_type": "code",
   "execution_count": 12,
   "metadata": {},
   "outputs": [
    {
     "name": "stdout",
     "output_type": "stream",
     "text": [
      "[7, 8, 9, 10, 11, 12, 13]\n",
      "total miss classification= 7 total= 14\n"
     ]
    }
   ],
   "source": [
    "miss=get_miss_indexes(py,y)\n",
    "print(miss)\n",
    "print('total miss classification=', len(miss), 'total=',len(y))"
   ]
  },
  {
   "cell_type": "code",
   "execution_count": 13,
   "metadata": {},
   "outputs": [
    {
     "name": "stdout",
     "output_type": "stream",
     "text": [
      "12\n",
      "[1. 1. 3.]\n",
      "-1.0\n"
     ]
    }
   ],
   "source": [
    "rnd=np.random.choice(miss)\n",
    "print(rnd)\n",
    "rx=Xa[rnd]                 #Xa er random \n",
    "ry=y[rnd]                  #y er random\n",
    "print(rx)\n",
    "print(ry)"
   ]
  },
  {
   "cell_type": "code",
   "execution_count": 14,
   "metadata": {},
   "outputs": [
    {
     "name": "stdout",
     "output_type": "stream",
     "text": [
      "[-63.27777635   3.23140505   7.13012829]\n"
     ]
    }
   ],
   "source": [
    "w=perceptron_train(Xa,y)\n",
    "print(w)"
   ]
  },
  {
   "cell_type": "code",
   "execution_count": 15,
   "metadata": {},
   "outputs": [
    {
     "name": "stdout",
     "output_type": "stream",
     "text": [
      "[1.0, 1.0, 1.0, 1.0, 1.0, 1.0, 1.0, -1.0, -1.0, -1.0, -1.0, -1.0, -1.0, -1.0]\n"
     ]
    }
   ],
   "source": [
    "py=predict(Xa,w)\n",
    "print(py)"
   ]
  },
  {
   "cell_type": "code",
   "execution_count": 16,
   "metadata": {},
   "outputs": [
    {
     "name": "stdout",
     "output_type": "stream",
     "text": [
      "[-6.75713966  0.54874489  0.57760866]\n"
     ]
    }
   ],
   "source": [
    "w1=perceptron_train2(Xa,y)\n",
    "print(w1)"
   ]
  },
  {
   "cell_type": "code",
   "execution_count": 17,
   "metadata": {},
   "outputs": [
    {
     "name": "stdout",
     "output_type": "stream",
     "text": [
      "[1.0, 1.0, 1.0, 1.0, 1.0, 1.0, 1.0, -1.0, -1.0, -1.0, -1.0, -1.0, -1.0, -1.0]\n"
     ]
    }
   ],
   "source": [
    "py=predict(Xa,w1)\n",
    "print(py)"
   ]
  },
  {
   "cell_type": "code",
   "execution_count": 18,
   "metadata": {},
   "outputs": [
    {
     "data": {
      "text/plain": [
       "[-1.0]"
      ]
     },
     "execution_count": 18,
     "metadata": {},
     "output_type": "execute_result"
    }
   ],
   "source": [
    "xt=[1,4,4]\n",
    "predict([xt],w)"
   ]
  },
  {
   "cell_type": "code",
   "execution_count": null,
   "metadata": {},
   "outputs": [],
   "source": []
  }
 ],
 "metadata": {
  "kernelspec": {
   "display_name": "Python 3",
   "language": "python",
   "name": "python3"
  },
  "language_info": {
   "codemirror_mode": {
    "name": "ipython",
    "version": 3
   },
   "file_extension": ".py",
   "mimetype": "text/x-python",
   "name": "python",
   "nbconvert_exporter": "python",
   "pygments_lexer": "ipython3",
   "version": "3.7.1"
  }
 },
 "nbformat": 4,
 "nbformat_minor": 2
}
