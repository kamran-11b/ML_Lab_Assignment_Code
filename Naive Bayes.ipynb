{
 "cells": [
  {
   "cell_type": "markdown",
   "metadata": {},
   "source": [
    "# Topic: Naive Bayes Classifier\n",
    "\n",
    "Md Kamran Ahmad\n",
    "\n",
    "ID:160103020033"
   ]
  },
  {
   "cell_type": "code",
   "execution_count": 1,
   "metadata": {},
   "outputs": [],
   "source": [
    "import numpy as np\n",
    "from sklearn.model_selection import train_test_split\n",
    "from sklearn import datasets\n",
    "from pprint import pprint"
   ]
  },
  {
   "cell_type": "code",
   "execution_count": 2,
   "metadata": {},
   "outputs": [],
   "source": [
    "spam=[\"বোকার কাছে টাকা থাকে না\",\"যতক্ষণ শ্বাস ততকক্ষণ আঁশ\",\"ভাত ছড়ালে কাকের অভাব হয় না\",\"টাকায় বাঘের দুধ মেলে\",\n",
    "      \"স্যার রোবট ভালোবাসেন না\",\"সে খারাপ গান গায়\",\"কেউ তাদের পছন্দ করে না\",\"আমি ভ্রমণ পছন্দ করি না \",\n",
    "      \"ভ্রমণ করা খুব খারাপ\",\"সে ভাল না\",\"সে খুব খারাপ মানুষ\",\"আমি খারাপ আছি\",\"রোবট খারাপ\", \"রোবট খারাপ গান করে\",\n",
    "      \"সে স্কুলে পড়া পারে না \",\"সে আমাকে মেরেছে\",\"ক্লাসে কেউ নাই\",\"বাংলাদেশ সুন্দর না\",\"আমি দেশকে ভালোবাসি না\",\n",
    "      \"দেশ সকল খারাপ\",\"দেশ মায়ের সমান না\",\"স্যারের হাসি সুন্দর না\",\"আমাদের ডিপার্ট্মেন্ট খারাপ\",\"সে স্কুল যায় না \",\n",
    "      \"আমি রোবট পছন্দ করি না\",\"তারা খারাপ  বন্ধু\",\"সে খারাপ ছাত্র\",\"আমরা কেউ ভ্রমণে যাই না\",\"আমি তাকে পছন্দ করি না\",\n",
    "      \"সে আমাকে মেরেছে\",\"আমরা খেলায় যাই না\"\"আমাদের ডিপার্ট্মেন্ট খেলায় খুব খারাপ \",\"রোবট নিজে নিজে কথা বলতে পারে না\",\n",
    "      \"রোবট তৈরি করা খারাপ\",\"সেদিন ক্লাস হয় নাই\",\"আমরা কেউ ভ্রমণে যাই না\",\"আমি তাকে পছন্দকরি না\",\"কাউকে সম্মান করবো না\",\n",
    "      \"তারা সবাই খুব খারাপ\",\"ঈদে বাড়ি যাব না\",\"পাখি দেখতে সুন্দর না\",\"পাখি গান গায় না\",\"পাখি কথা বলে না\",\n",
    "      \"আমি পাখি পছন্দ করি না\",\"পাখি আকাশে উড়তে পারে না\",\"পাখির বাচ্চা দেখতে খুব সুন্দর না\",\"স্যারের রোবট খারাপ কথা বলতে পারে\",\n",
    "      \"তারা ছবি দেখতে পছন্দ করে না\",\"আমরা সবাই ছবি দেখি না\",\"ছবিটি অনেক খারাপ\",\"আমরা ঈদে বাড়ি যাবো না\",\"করিম বাড়ি যাবে না\",\n",
    "      \"করিম গান শুনতে পছন্দ করে না\",\"আজকে আমরা হারবো\",\"সে আজকে আসবে না\",\"আমরা পারবো খারাপ রোবট তৈরি করতে\"]\n"
   ]
  },
  {
   "cell_type": "code",
   "execution_count": 3,
   "metadata": {},
   "outputs": [],
   "source": [
    "ham=[\"সোজা আঙ্গুলে ঘি ওঠে না\",\"কই মাছের প্রাণ বড়ই শক্ত\",\"ডুবে ডুবে জল খাওয়া\",\"নাকে তেল দিয়ে ঘুমা\",\"আমি ভালো আছি\",\n",
    "     \"আমি যাচ্ছি সেখানে\",\"সকল শিক্ষক খুব ভালো\",\"রোবট কথা বলে\",\"রোবট খুব ভালো\", \"রোবট গান করে\",\n",
    "     \"সে স্কুলে পড়া পারে\",\"স্যারের হাসি খুব সুন্দর\",\"আমাদের ডিপার্ট্মেন্ট ভালো\",\"সে স্কুল যায়\",\"আমি রোবট পছন্দ করি\",\n",
    "     \"তারা ভালো বন্ধু\",\"সে ভালো ছাত্র\",\"স্যার রোবট ভালোবাসেন\",\"সে গান গায়\",\"সবাই তাদের পছন্দ করে\",\"আমি ভ্রমণ পছন্দ করি\",\n",
    "     \"ভ্রমণ করা খুব আনন্দের\",\"আমরা সবাই ভ্রমণে যাই\",\"আমি তাকে খুব পছন্দ করি\",\"সে আমাকে জানে ভালো করে\",\"আমরা খেলায় যাই\",\n",
    "     \"আমাদের ডিপার্ট্মেন্ট খেলায় খুব ভালো\",\"রোবট নিজে নিজে কথা বলতে পারে\",\"রোবট তৈরি করা সহজ\",\"সেদিন ক্লাস হয়েছে\",\n",
    "     \"ক্লাসে সবাই আছে\",\"বাংলাদেশ সুন্দর\",\"বাংলাদেশ সুন্দর\",\"আমি দেশকে ভালোবাসি\",\"দেশ সকলের মা\",\"দেশ মায়ের সমান\",\n",
    "     \"সবাই কে সম্মান করবো\",\"তারা সবাই খুব ভালো\",\"ঈদে বাড়ি যাবো\",\"পাখি দেখতে সুন্দর\",\"পাখি গান গায়\",\"পাখি কথা বলে\",\n",
    "     \"আমি পাখি পছন্দ করি\",\"পাখি আকাশে উড়তে পারে\",\"পাখির বাচ্চা দেখতে খুব সুন্দর\",\"স্যারের রোবট কথা বলতে পারে\",\n",
    "     \"তারা ছবি দেখতে পছন্দ করে\",\"আমরা সবাই ছবি দেখি\",\"ছবিটি অনেক সুন্দর\", \"আমরা ঈদে বাড়ি যাবো\",\"করিম বাড়ি যাবে\",\n",
    "     \"করিম গান শুনতে পছন্দ করে\",\"আজ আমরা জিতব \",\"সে আজকে আসবে \"]"
   ]
  },
  {
   "cell_type": "code",
   "execution_count": 4,
   "metadata": {},
   "outputs": [
    {
     "name": "stdout",
     "output_type": "stream",
     "text": [
      "Number Of document in spam class:  55\n",
      "Number Of document in ham class :  54\n"
     ]
    }
   ],
   "source": [
    "print('Number Of document in spam class: ',len(spam))\n",
    "print('Number Of document in ham class : ',len(ham))"
   ]
  },
  {
   "cell_type": "code",
   "execution_count": 5,
   "metadata": {},
   "outputs": [],
   "source": [
    "def count(v):\n",
    "    n_w=0\n",
    "    for i in range(len(v)):\n",
    "        x=v[i].split(' ')\n",
    "        #print(x)\n",
    "        n_w+=len(x)\n",
    "    return n_w\n",
    "\n",
    "\n",
    "def ws(w,soh,now):\n",
    "    c=1\n",
    "    for i in range(len(soh)):\n",
    "        x=soh[i].split(' ')\n",
    "        for j in range(len(x)):\n",
    "            if w== x[j]:\n",
    "                c+=1\n",
    "    pov=c/now\n",
    "    return(pov,c)"
   ]
  },
  {
   "cell_type": "code",
   "execution_count": 6,
   "metadata": {},
   "outputs": [
    {
     "name": "stdout",
     "output_type": "stream",
     "text": [
      "Total Word in spam Class:  242\n",
      "Total Word in ham Class :  200\n",
      "Probability of spam:  0.5045871559633027\n",
      "Probability of ham :  0.4954128440366973\n"
     ]
    }
   ],
   "source": [
    "print('Total Word in spam Class: ',count(spam))\n",
    "print('Total Word in ham Class : ',count(ham))\n",
    "\n",
    "total_doc=len(spam)+len(ham)\n",
    "print('Probability of spam: ', (len(spam)/total_doc))\n",
    "print('Probability of ham : ', (len(ham)/total_doc))"
   ]
  },
  {
   "cell_type": "code",
   "execution_count": 7,
   "metadata": {},
   "outputs": [
    {
     "name": "stdout",
     "output_type": "stream",
     "text": [
      "[0.004132231404958678, 0.004132231404958678, 0.004132231404958678, 0.004132231404958678, 0.004132231404958678, 0.004132231404958678, 0.004132231404958678, 0.004132231404958678, 0.004132231404958678]\n",
      "[0.005, 0.005, 0.005, 0.005, 0.005, 0.005, 0.005, 0.005, 0.005]\n",
      "[1, 1, 1, 1, 1, 1, 1, 1, 1]\n"
     ]
    }
   ],
   "source": [
    "w='টাকায় বাঘের দুধ মেলে আমি পাখি পছন্দ করি না'\n",
    "#w=input(\"Enter a string :\")\n",
    "w2=w.split(\" \")\n",
    "ps=[]\n",
    "ph=[]\n",
    "tw=[]\n",
    "for i in range(len(w2)):\n",
    "    c1=-1\n",
    "    t=w[i]\n",
    "    #print(t)\n",
    "    s,c=ws(t,spam,count(spam))\n",
    "    ps.append(s)\n",
    "    c1+=c\n",
    "    h,c=ws(t,ham,count(ham))\n",
    "    ph.append(h)\n",
    "    c1+=c\n",
    "    tw.append(c1)\n",
    "print(ps)\n",
    "print(ph)\n",
    "print(tw)"
   ]
  },
  {
   "cell_type": "code",
   "execution_count": 8,
   "metadata": {},
   "outputs": [
    {
     "name": "stdout",
     "output_type": "stream",
     "text": [
      "[0.009174311926605505, 0.009174311926605505, 0.009174311926605505, 0.009174311926605505, 0.009174311926605505, 0.009174311926605505, 0.009174311926605505, 0.009174311926605505, 0.009174311926605505]\n"
     ]
    }
   ],
   "source": [
    "tp=[]\n",
    "for i in range(len(w2)):\n",
    "    t=tw[i]/total_doc\n",
    "    tp.append(t)\n",
    "print(tp)"
   ]
  },
  {
   "cell_type": "code",
   "execution_count": 9,
   "metadata": {},
   "outputs": [],
   "source": [
    "ps=np.array(ps)\n",
    "ph=np.array(ph)\n",
    "tp=np.array(tp)"
   ]
  },
  {
   "cell_type": "code",
   "execution_count": 10,
   "metadata": {},
   "outputs": [
    {
     "name": "stdout",
     "output_type": "stream",
     "text": [
      "The Word is in Ham:  0.2101530911157625 %\n"
     ]
    }
   ],
   "source": [
    "p=len(spam)/total_doc\n",
    "q=len(ham)/total_doc\n",
    "\n",
    "wsp=(np.prod(ps)*p)/np.prod(tp)\n",
    "whp=(np.prod(ph)*q)/np.prod(tp)\n",
    "\n",
    "if wsp>whp:\n",
    "    if wsp>1:\n",
    "        wsp=1\n",
    "    print(\"The Word is in Spam: \",wsp*100,'%')\n",
    "else:\n",
    "    if whp>1:\n",
    "        whp=1\n",
    "    print(\"The Word is in Ham: \",whp*100,'%')\n",
    "\n",
    "#print(wsp)\n",
    "#print(whp)"
   ]
  },
  {
   "cell_type": "code",
   "execution_count": null,
   "metadata": {},
   "outputs": [],
   "source": []
  },
  {
   "cell_type": "code",
   "execution_count": null,
   "metadata": {},
   "outputs": [],
   "source": []
  },
  {
   "cell_type": "code",
   "execution_count": null,
   "metadata": {},
   "outputs": [],
   "source": []
  }
 ],
 "metadata": {
  "kernelspec": {
   "display_name": "Python 3",
   "language": "python",
   "name": "python3"
  },
  "language_info": {
   "codemirror_mode": {
    "name": "ipython",
    "version": 3
   },
   "file_extension": ".py",
   "mimetype": "text/x-python",
   "name": "python",
   "nbconvert_exporter": "python",
   "pygments_lexer": "ipython3",
   "version": "3.7.1"
  }
 },
 "nbformat": 4,
 "nbformat_minor": 2
}
