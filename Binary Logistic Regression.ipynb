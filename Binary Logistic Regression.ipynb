{
 "cells": [
  {
   "cell_type": "code",
   "execution_count": 59,
   "metadata": {},
   "outputs": [],
   "source": [
    "import numpy as np\n",
    "import matplotlib.pyplot as plt \n",
    "import pprint"
   ]
  },
  {
   "cell_type": "code",
   "execution_count": 60,
   "metadata": {},
   "outputs": [],
   "source": [
    "x=[10, 20, 30, 40, 50, 60, 70]\n",
    "y=[0, 0, 0, 1, 1, 1, 1]\n",
    "ar=[ [1.0, float(i) ] for i in x]"
   ]
  },
  {
   "cell_type": "code",
   "execution_count": 61,
   "metadata": {},
   "outputs": [
    {
     "name": "stdout",
     "output_type": "stream",
     "text": [
      "[[1.0, 10.0], [1.0, 20.0], [1.0, 30.0], [1.0, 40.0], [1.0, 50.0], [1.0, 60.0], [1.0, 70.0]]\n"
     ]
    }
   ],
   "source": [
    "print(ar)"
   ]
  },
  {
   "cell_type": "code",
   "execution_count": 62,
   "metadata": {},
   "outputs": [
    {
     "name": "stdout",
     "output_type": "stream",
     "text": [
      "(7, 2)\n",
      "[0 0 0 1 1 1 1]\n",
      "<class 'numpy.ndarray'>\n",
      "[[ 1. 10.]\n",
      " [ 1. 20.]\n",
      " [ 1. 30.]\n",
      " [ 1. 40.]\n",
      " [ 1. 50.]\n",
      " [ 1. 60.]\n",
      " [ 1. 70.]]\n"
     ]
    }
   ],
   "source": [
    "X=np.array(ar)\n",
    "print(X.shape)\n",
    "\n",
    "y=np.array(y)\n",
    "print(y)\n",
    "\n",
    "print(type(X))\n",
    "\n",
    "print(X)"
   ]
  },
  {
   "cell_type": "code",
   "execution_count": 63,
   "metadata": {},
   "outputs": [
    {
     "data": {
      "image/png": "[encoded data removed]",
      "text/plain": [
       "<Figure size 432x288 with 1 Axes>"
      ]
     },
     "metadata": {
      "needs_background": "light"
     },
     "output_type": "display_data"
    }
   ],
   "source": [
    "plt.scatter(x, y, color = 'blue')\n",
    "plt.plot(x,y)\n",
    "plt.title('x vs y')\n",
    "plt.xlabel('x data')\n",
    "plt.ylabel('y data')\n",
    "plt.show()"
   ]
  },
  {
   "cell_type": "code",
   "execution_count": 64,
   "metadata": {},
   "outputs": [],
   "source": [
    "def sigmoid(z):\n",
    "    return 1 / (1 + np.exp(-z))\n",
    "    \n",
    "def linRG(x, theta):\n",
    "    return np.dot(theta, x.T)\n",
    "\n",
    "def predict(X, theta):\n",
    "    z = linRG(X, theta)\n",
    "    return sigmoid(z)\n",
    "\n",
    "def loss(h, y):\n",
    "    return (- y * np.log(h) - (1 - y ) * np.log(1 - h) ).mean()\n",
    "\n",
    "def gradient(x, h, y):\n",
    "    n = x.shape[0]\n",
    "    return (1 / n) * np.dot( (h - y), X)\n"
   ]
  },
  {
   "cell_type": "code",
   "execution_count": 65,
   "metadata": {},
   "outputs": [
    {
     "name": "stdout",
     "output_type": "stream",
     "text": [
      "[-29.23352708   0.83941388]\n"
     ]
    }
   ],
   "source": [
    "epoch=90000 \n",
    "lr=0.1\n",
    "theta = np.zeros(2)           # weights initialization\n",
    "for i in range(epoch):\n",
    "    h=predict(X, theta)  \n",
    "    gd=gradient(X, h, y)\n",
    "    theta=theta-lr * gd \n",
    "\n",
    "print(theta)"
   ]
  },
  {
   "cell_type": "code",
   "execution_count": 66,
   "metadata": {},
   "outputs": [
    {
     "name": "stdout",
     "output_type": "stream",
     "text": [
      "[8.90366158e-10 3.93636242e-06 1.71053474e-02 9.87169644e-01\n",
      " 9.99997060e-01 9.99999999e-01 1.00000000e+00]\n",
      "[0, 0, 0, 1, 1, 1, 1]\n"
     ]
    }
   ],
   "source": [
    "pd=predict(X,theta)\n",
    "print(pd)\n",
    "\n",
    "prd=[ 1 if ipd>0.5 else 0 for ipd in pd]\n",
    "print(prd)"
   ]
  },
  {
   "cell_type": "code",
   "execution_count": 82,
   "metadata": {},
   "outputs": [],
   "source": [
    "yy=[]\n",
    "for i in x:\n",
    "    cy=theta[0]+theta[1]*i\n",
    "    if cy>0:\n",
    "        cy=1\n",
    "    else:\n",
    "        cy=0\n",
    "    yy.append(cy)"
   ]
  },
  {
   "cell_type": "code",
   "execution_count": 83,
   "metadata": {},
   "outputs": [
    {
     "data": {
      "image/png": "[encoded data removed]",
      "text/plain": [
       "<Figure size 432x288 with 1 Axes>"
      ]
     },
     "metadata": {
      "needs_background": "light"
     },
     "output_type": "display_data"
    }
   ],
   "source": [
    "plt.scatter(x,y, color = 'blue') \n",
    "plt.plot(x,yy)\n",
    "plt.title('x vs y')\n",
    "plt.xlabel('x data')\n",
    "plt.ylabel('y data')\n",
    "plt.show()"
   ]
  },
  {
   "cell_type": "code",
   "execution_count": null,
   "metadata": {},
   "outputs": [],
   "source": []
  }
 ],
 "metadata": {
  "kernelspec": {
   "display_name": "Python 3",
   "language": "python",
   "name": "python3"
  },
  "language_info": {
   "codemirror_mode": {
    "name": "ipython",
    "version": 3
   },
   "file_extension": ".py",
   "mimetype": "text/x-python",
   "name": "python",
   "nbconvert_exporter": "python",
   "pygments_lexer": "ipython3",
   "version": "3.7.1"
  }
 },
 "nbformat": 4,
 "nbformat_minor": 2
}
