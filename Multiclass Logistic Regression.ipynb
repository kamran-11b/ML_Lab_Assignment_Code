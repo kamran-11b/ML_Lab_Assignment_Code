{
 "cells": [
  {
   "cell_type": "markdown",
   "metadata": {},
   "source": [
    "# Topic: Naive Bayes Classifier\n",
    "\n",
    "Md Kamran Ahmad\n",
    "\n",
    "ID:160103020033"
   ]
  },
  {
   "cell_type": "code",
   "execution_count": 1,
   "metadata": {},
   "outputs": [],
   "source": [
    "import numpy as np\n",
    "import matplotlib.pyplot as plt \n",
    "import pprint \n",
    "from sklearn import datasets\n",
    "from sklearn.metrics import accuracy_score"
   ]
  },
  {
   "cell_type": "code",
   "execution_count": 2,
   "metadata": {},
   "outputs": [],
   "source": [
    "iris =  datasets.load_iris() \n",
    "x = iris.data \n",
    "y = iris.target\n",
    "#names = iris.target_names"
   ]
  },
  {
   "cell_type": "code",
   "execution_count": 3,
   "metadata": {
    "scrolled": false
   },
   "outputs": [
    {
     "name": "stdout",
     "output_type": "stream",
     "text": [
      "[[5.1 3.5 1.4 0.2]\n",
      " [4.9 3.  1.4 0.2]\n",
      " [4.7 3.2 1.3 0.2]]\n"
     ]
    }
   ],
   "source": [
    "print(x[:3])\n",
    "#print(y)\n",
    "#print(names)"
   ]
  },
  {
   "cell_type": "code",
   "execution_count": 4,
   "metadata": {},
   "outputs": [
    {
     "name": "stdout",
     "output_type": "stream",
     "text": [
      "(150, 4)\n",
      "(150,)\n"
     ]
    }
   ],
   "source": [
    "print(x.shape)\n",
    "print(y.shape)"
   ]
  },
  {
   "cell_type": "code",
   "execution_count": 5,
   "metadata": {},
   "outputs": [],
   "source": [
    "def sigmoid(z):\n",
    "    return 1 / (1 + np.exp(-z))\n",
    "\n",
    "def linRG(x, theta):\n",
    "    return np.dot(theta, x.T)\n",
    "\n",
    "def predict(x, theta):\n",
    "    z = linRG(x, theta)\n",
    "    return sigmoid(z)\n",
    "\n",
    "def loss(h, y):\n",
    "    return (- y * np.log(h) - (1 - y ) * np.log(1 - h) ).mean()\n",
    "\n",
    "def gradient(x, h, y):\n",
    "    n = x.shape[0]\n",
    "    return (1 / n) * np.dot( (h - y), x)\n",
    "    \n",
    "def train(x,y, epoch, lr, theta):\n",
    "    for i in range(epoch):\n",
    "        h=predict(x, theta)  \n",
    "        gd=gradient(x, h, y)\n",
    "        theta = theta-lr * gd \n",
    "    return theta"
   ]
  },
  {
   "cell_type": "code",
   "execution_count": 6,
   "metadata": {},
   "outputs": [
    {
     "name": "stdout",
     "output_type": "stream",
     "text": [
      "[[1.  5.1 3.5 1.4 0.2]\n",
      " [1.  4.9 3.  1.4 0.2]\n",
      " [1.  4.7 3.2 1.3 0.2]\n",
      " [1.  4.6 3.1 1.5 0.2]\n",
      " [1.  5.  3.6 1.4 0.2]]\n"
     ]
    }
   ],
   "source": [
    "ix=x[:]\n",
    "#print(ix.shape)\n",
    "ix2=np.ones((ix.shape[0],  1))\n",
    "#print(ix2)\n",
    "ix2=np.append(ix2, ix , axis=1)\n",
    "x=ix2\n",
    "print(x[:5])"
   ]
  },
  {
   "cell_type": "code",
   "execution_count": 7,
   "metadata": {},
   "outputs": [],
   "source": [
    "k=7         #classes"
   ]
  },
  {
   "cell_type": "code",
   "execution_count": 8,
   "metadata": {},
   "outputs": [],
   "source": [
    "#thetas=np.zeros( (k, x[0].shape[0]) )\n",
    "#print(thetas)"
   ]
  },
  {
   "cell_type": "code",
   "execution_count": 9,
   "metadata": {},
   "outputs": [
    {
     "name": "stdout",
     "output_type": "stream",
     "text": [
      "[[ 0.16683979  0.25485315  0.87983751 -1.41108308 -0.63840969]\n",
      " [ 0.02119505 -0.03716548 -0.55488718  0.32380194 -0.10848256]\n",
      " [-0.28495127 -0.63864028 -0.70141415  1.04994391  0.74157251]\n",
      " [-0.12110195 -0.65854164 -0.37674295 -0.34803906 -0.10052107]\n",
      " [-0.12110195 -0.65854164 -0.37674295 -0.34803906 -0.10052107]\n",
      " [-0.12110195 -0.65854164 -0.37674295 -0.34803906 -0.10052107]\n",
      " [-0.12110195 -0.65854164 -0.37674295 -0.34803906 -0.10052107]]\n"
     ]
    }
   ],
   "source": [
    "epoch=90000\n",
    "lr=0.0001\n",
    "thetas=np.zeros( (k, x[0].shape[0]))\n",
    "#print(thetas)\n",
    "for i in range(k):\n",
    "    tmp_y = np.array(y==i, dtype = int)\n",
    "    theta = np.zeros(x[0].shape[0])\n",
    "    theta = train(x,tmp_y, epoch, lr, theta)\n",
    "    thetas[i]=theta\n",
    "    \n",
    "print(thetas)"
   ]
  },
  {
   "cell_type": "code",
   "execution_count": 10,
   "metadata": {},
   "outputs": [],
   "source": [
    "#predict all data\n",
    "pd=predict(x, thetas)\n",
    "#print(pd)"
   ]
  },
  {
   "cell_type": "code",
   "execution_count": 11,
   "metadata": {},
   "outputs": [
    {
     "name": "stdout",
     "output_type": "stream",
     "text": [
      "150\n",
      "[0, 0, 0, 0, 0, 0, 0, 0, 0, 0, 0, 0, 0, 0, 0, 0, 0, 0, 0, 0, 0, 0, 0, 0, 0, 0, 0, 0, 0, 0, 0, 0, 0, 0, 0, 0, 0, 0, 0, 0, 0, 0, 0, 0, 0, 0, 0, 0, 0, 0, 1, 1, 1, 2, 1, 2, 2, 1, 1, 2, 1, 2, 1, 2, 1, 1, 2, 1, 2, 1, 2, 1, 2, 2, 1, 1, 1, 2, 2, 1, 1, 1, 1, 2, 2, 2, 1, 1, 1, 2, 2, 2, 1, 1, 2, 1, 1, 1, 1, 1, 2, 2, 2, 2, 2, 2, 2, 2, 2, 2, 2, 2, 2, 2, 2, 2, 2, 2, 2, 2, 2, 2, 2, 2, 2, 2, 2, 2, 2, 2, 2, 2, 2, 2, 2, 2, 2, 2, 2, 2, 2, 2, 2, 2, 2, 2, 2, 2, 2, 2]\n"
     ]
    }
   ],
   "source": [
    "prd=[]\n",
    "print(pd.shape[1])\n",
    "for i in range(pd.shape[1]):\n",
    "    vals= [pd[0][i], pd[1][i], pd[2][i]]\n",
    "    m=np.argmax(vals)\n",
    "    prd.append(m)\n",
    "    \n",
    "print(prd)"
   ]
  },
  {
   "cell_type": "code",
   "execution_count": 12,
   "metadata": {},
   "outputs": [
    {
     "name": "stdout",
     "output_type": "stream",
     "text": [
      "[0 0 0 0 0 0 0 0 0 0 0 0 0 0 0 0 0 0 0 0 0 0 0 0 0 0 0 0 0 0 0 0 0 0 0 0 0\n",
      " 0 0 0 0 0 0 0 0 0 0 0 0 0 1 1 1 2 1 2 2 1 1 2 1 2 1 2 1 1 2 1 2 1 2 1 2 2\n",
      " 1 1 1 2 2 1 1 1 1 2 2 2 1 1 1 2 2 2 1 1 2 1 1 1 1 1 2 2 2 2 2 2 2 2 2 2 2\n",
      " 2 2 2 2 2 2 2 2 2 2 2 2 2 2 2 2 2 2 2 2 2 2 2 2 2 2 2 2 2 2 2 2 2 2 2 2 2\n",
      " 2 2]\n"
     ]
    }
   ],
   "source": [
    "mm=np.argmax(pd, axis=0)\n",
    "print(mm)"
   ]
  },
  {
   "cell_type": "code",
   "execution_count": 13,
   "metadata": {},
   "outputs": [
    {
     "name": "stdout",
     "output_type": "stream",
     "text": [
      "86.66666666666667\n"
     ]
    }
   ],
   "source": [
    "print(accuracy_score(y, prd) * 100)"
   ]
  },
  {
   "cell_type": "code",
   "execution_count": 14,
   "metadata": {},
   "outputs": [
    {
     "name": "stdout",
     "output_type": "stream",
     "text": [
      "[1.  1.9 3.  2.4 3.2]\n"
     ]
    }
   ],
   "source": [
    "ar=[1, 1.9 , 3.0 , 2.4 , 3.2]\n",
    "ar=np.array(ar)\n",
    "print(ar)"
   ]
  },
  {
   "cell_type": "code",
   "execution_count": 15,
   "metadata": {},
   "outputs": [
    {
     "name": "stdout",
     "output_type": "stream",
     "text": [
      "0.10536954032298042 0.21685304723918852 0.784195786731975\n",
      "2\n"
     ]
    }
   ],
   "source": [
    "npd=predict(ar, thetas[0])\n",
    "npd1=predict(ar, thetas[1])\n",
    "npd2=predict(ar, thetas[2])\n",
    "print(npd, npd1, npd2)\n",
    "\n",
    "npdr=[npd, npd1, npd2]\n",
    "npv=np.argmax(npdr)\n",
    "print(npv)"
   ]
  },
  {
   "cell_type": "code",
   "execution_count": null,
   "metadata": {},
   "outputs": [],
   "source": []
  },
  {
   "cell_type": "code",
   "execution_count": null,
   "metadata": {},
   "outputs": [],
   "source": []
  }
 ],
 "metadata": {
  "kernelspec": {
   "display_name": "Python 3",
   "language": "python",
   "name": "python3"
  },
  "language_info": {
   "codemirror_mode": {
    "name": "ipython",
    "version": 3
   },
   "file_extension": ".py",
   "mimetype": "text/x-python",
   "name": "python",
   "nbconvert_exporter": "python",
   "pygments_lexer": "ipython3",
   "version": "3.7.1"
  }
 },
 "nbformat": 4,
 "nbformat_minor": 2
}
