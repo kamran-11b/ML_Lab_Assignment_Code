{
 "cells": [
  {
   "cell_type": "code",
   "execution_count": null,
   "metadata": {},
   "outputs": [],
   "source": [
    "import numpy as np\n",
    "import matplotlib.pyplot as plt \n",
    "import pprint \n",
    "from sklearn import datasets\n",
    "from sklearn.metrics import accuracy_score"
   ]
  },
  {
   "cell_type": "code",
   "execution_count": null,
   "metadata": {},
   "outputs": [],
   "source": [
    "iris =  datasets.load_iris() \n",
    "x = iris.data[:]  #all columns\n",
    "y = iris.target[:]\n",
    "names = iris.target_names\n"
   ]
  },
  {
   "cell_type": "code",
   "execution_count": null,
   "metadata": {
    "scrolled": false
   },
   "outputs": [],
   "source": [
    "#print(x)\n",
    "#print(y)\n",
    "#print(names)"
   ]
  },
  {
   "cell_type": "code",
   "execution_count": null,
   "metadata": {},
   "outputs": [],
   "source": [
    "print(x.shape)\n",
    "print(y.shape)"
   ]
  },
  {
   "cell_type": "code",
   "execution_count": null,
   "metadata": {},
   "outputs": [],
   "source": [
    "def sigmoid(z):\n",
    "    return 1 / (1 + np.exp(-z))\n",
    "\n",
    "def linRG(x, theta):\n",
    "    return np.dot(theta, x.T)\n",
    "\n",
    "def predict(X, theta):\n",
    "    z = linRG(X, theta)\n",
    "    return sigmoid(z)\n",
    "\n",
    "def loss(h, y):\n",
    "    return (- y * np.log(h) - (1 - y ) * np.log(1 - h) ).mean()\n",
    "\n",
    "def gradient(x, h, y):\n",
    "    n = x.shape[0]\n",
    "    return (1 / n) * np.dot( (h - y), X)\n",
    "    \n",
    "def train(x,y, epoch, lr, theta):\n",
    "    for i in range(epoch):\n",
    "        h=predict(x, theta)  \n",
    "        gd=gradient(x, h, y)\n",
    "        theta = theta-lr * gd \n",
    "    return theta"
   ]
  },
  {
   "cell_type": "code",
   "execution_count": null,
   "metadata": {},
   "outputs": [],
   "source": [
    "x=x[:]\n",
    "print(x.shape)\n",
    "ix2=np.ones((ix.shape[0],  1))\n",
    "ix2=np.append(ix2, ix , axis=1)\n",
    "x=ix2\n",
    "#print(x[:])"
   ]
  },
  {
   "cell_type": "code",
   "execution_count": null,
   "metadata": {},
   "outputs": [],
   "source": [
    "k=150 #class\n",
    "#print(y)"
   ]
  },
  {
   "cell_type": "code",
   "execution_count": null,
   "metadata": {},
   "outputs": [],
   "source": [
    "#thetas=np.zeros( (k, x[0].shape[0]) )\n",
    "#print(thetas)"
   ]
  },
  {
   "cell_type": "code",
   "execution_count": null,
   "metadata": {},
   "outputs": [],
   "source": [
    "epoch=9000\n",
    "lr=0.0001\n",
    "thetas=np.zeros( (k, X[0].shape[0]) )\n",
    "\n",
    "for ik in range(k):\n",
    "    tmp_y = np.array(y==ik, dtype = int)\n",
    "    theta = np.zeros(X[0].shape[0])\n",
    "    theta = train(X,tmp_y, epoch, lr, theta)\n",
    "    thetas[ik]=theta\n",
    "    \n",
    "print(thetas)"
   ]
  },
  {
   "cell_type": "code",
   "execution_count": null,
   "metadata": {},
   "outputs": [],
   "source": [
    "pd=predict(x,theta)\n",
    "print(pd.shape)"
   ]
  },
  {
   "cell_type": "code",
   "execution_count": null,
   "metadata": {},
   "outputs": [],
   "source": [
    "prd=[]\n",
    "for i in range(pd.shape[1]):\n",
    "    \n",
    "    vals= [pd[0][i], pd[1][i], pd[2][i] pd[3][i]]\n",
    "    m=np.argmax(vals)\n",
    "    prd.append(m)\n",
    "    \n",
    "print(prd)"
   ]
  },
  {
   "cell_type": "code",
   "execution_count": null,
   "metadata": {},
   "outputs": [],
   "source": [
    "accuracy_score(y, prd) * 100"
   ]
  },
  {
   "cell_type": "code",
   "execution_count": null,
   "metadata": {},
   "outputs": [],
   "source": []
  }
 ],
 "metadata": {
  "kernelspec": {
   "display_name": "Python 3",
   "language": "python",
   "name": "python3"
  },
  "language_info": {
   "codemirror_mode": {
    "name": "ipython",
    "version": 3
   },
   "file_extension": ".py",
   "mimetype": "text/x-python",
   "name": "python",
   "nbconvert_exporter": "python",
   "pygments_lexer": "ipython3",
   "version": "3.7.3"
  }
 },
 "nbformat": 4,
 "nbformat_minor": 2
}
