{
 "cells": [
  {
   "cell_type": "code",
   "execution_count": 24,
   "metadata": {},
   "outputs": [],
   "source": [
    "import numpy as np\n",
    "from pprint import pprint\n",
    "from math import log"
   ]
  },
  {
   "cell_type": "code",
   "execution_count": 25,
   "metadata": {},
   "outputs": [],
   "source": [
    "data=[[17,'F'],[25,'F'],[38,'F'],[42,'D'],[44,'D'],[47,'C'],[49,'C'],[50,'B'],[54,'B'],[53,'B']]"
   ]
  },
  {
   "cell_type": "code",
   "execution_count": 73,
   "metadata": {},
   "outputs": [
    {
     "name": "stdout",
     "output_type": "stream",
     "text": [
      "[[17, 'F'],\n",
      " [25, 'F'],\n",
      " [38, 'F'],\n",
      " [42, 'D'],\n",
      " [44, 'D'],\n",
      " [47, 'C'],\n",
      " [49, 'C'],\n",
      " [50, 'B'],\n",
      " [54, 'B'],\n",
      " [53, 'B']]\n"
     ]
    }
   ],
   "source": [
    "pprint(data)"
   ]
  },
  {
   "cell_type": "code",
   "execution_count": 27,
   "metadata": {},
   "outputs": [],
   "source": [
    "def count_class_freq(rows):\n",
    "    classes={} #dictionary\n",
    "    for row in rows:\n",
    "        c=row[-1]\n",
    "        if c not in classes:\n",
    "            classes[c]=1\n",
    "        else:\n",
    "            classes[c]+=1\n",
    "    return classes"
   ]
  },
  {
   "cell_type": "code",
   "execution_count": 28,
   "metadata": {},
   "outputs": [
    {
     "name": "stdout",
     "output_type": "stream",
     "text": [
      "{'F': 3, 'D': 2, 'C': 2, 'B': 3}\n"
     ]
    }
   ],
   "source": [
    "print(count_class_freq(data))"
   ]
  },
  {
   "cell_type": "code",
   "execution_count": 29,
   "metadata": {},
   "outputs": [],
   "source": [
    "def gini(rows):\n",
    "    classes=count_class_freq(rows)\n",
    "    impurity = 1\n",
    "    for c in classes:\n",
    "        prob_of_c = classes[c] / float(len(rows))\n",
    "        impurity -= prob_of_c**2\n",
    "    return impurity"
   ]
  },
  {
   "cell_type": "code",
   "execution_count": 42,
   "metadata": {},
   "outputs": [],
   "source": [
    "def entropy(rows):\n",
    "    classes=count_class_freq(rows)\n",
    "    impurity = 0\n",
    "    for c in classes:\n",
    "        prob_of_c = classes[c] / float(len(rows))\n",
    "        impurity -= prob_of_c*  log(prob_of_c, 2)  #2 base log.\n",
    "    return impurity"
   ]
  },
  {
   "cell_type": "code",
   "execution_count": 43,
   "metadata": {},
   "outputs": [
    {
     "name": "stdout",
     "output_type": "stream",
     "text": [
      "0.74\n"
     ]
    }
   ],
   "source": [
    "print(gini(data))"
   ]
  },
  {
   "cell_type": "code",
   "execution_count": 44,
   "metadata": {},
   "outputs": [
    {
     "name": "stdout",
     "output_type": "stream",
     "text": [
      "1.9709505944546688\n"
     ]
    }
   ],
   "source": [
    "print(entropy(data))"
   ]
  },
  {
   "cell_type": "code",
   "execution_count": 72,
   "metadata": {},
   "outputs": [
    {
     "name": "stdout",
     "output_type": "stream",
     "text": [
      "[['17' 'F']\n",
      " ['25' 'F']\n",
      " ['38' 'F']\n",
      " ['42' 'D']\n",
      " ['44' 'D']\n",
      " ['47' 'C']\n",
      " ['49' 'C']\n",
      " ['50' 'B']\n",
      " ['54' 'B']\n",
      " ['53' 'B']]\n",
      "['17' '25' '38' '42' '44' '47' '49' '50' '53' '54']\n"
     ]
    }
   ],
   "source": [
    "npd=np.array(data)\n",
    "print(npd)\n",
    "vls=np.unique(npd[:,0])\n",
    "print(vls)"
   ]
  },
  {
   "cell_type": "code",
   "execution_count": 59,
   "metadata": {},
   "outputs": [],
   "source": [
    "def total_rows(groups):\n",
    "    nr=0\n",
    "    for groupname,rows in sps.items():\n",
    "        nr+=len(rows)\n",
    "    return nr"
   ]
  },
  {
   "cell_type": "code",
   "execution_count": 60,
   "metadata": {},
   "outputs": [],
   "source": [
    "def split(rows, col):\n",
    "    ds={}\n",
    "    for row in rows:\n",
    "        cv=row[col]\n",
    "        if cv in ds:\n",
    "            ds[cv].append(row)\n",
    "        else:\n",
    "            ds[cv]=[row]\n",
    "    return ds"
   ]
  },
  {
   "cell_type": "code",
   "execution_count": 61,
   "metadata": {},
   "outputs": [],
   "source": [
    "def ig(groups, current_entropy): \n",
    "    groups_entropy=0\n",
    "    for groupnam, rows in groups.items():\n",
    "        group_entropy=entropy(rows)\n",
    "        weighted_entropy= ( len(rows)/total_rows(groups) )*group_entropy\n",
    "        groups_entropy+=weighted_entropy\n",
    "    return current_entropy-groups_entropy"
   ]
  },
  {
   "cell_type": "code",
   "execution_count": 62,
   "metadata": {},
   "outputs": [
    {
     "name": "stdout",
     "output_type": "stream",
     "text": [
      "1.9709505944546688\n"
     ]
    }
   ],
   "source": [
    "es=entropy(data)\n",
    "print(es)"
   ]
  },
  {
   "cell_type": "code",
   "execution_count": 63,
   "metadata": {},
   "outputs": [
    {
     "name": "stdout",
     "output_type": "stream",
     "text": [
      "Group:  17  Total= 1  et= 0.0\n",
      "[[17, 'F']]\n",
      "Group:  25  Total= 1  et= 0.0\n",
      "[[25, 'F']]\n",
      "Group:  38  Total= 1  et= 0.0\n",
      "[[38, 'F']]\n",
      "Group:  42  Total= 1  et= 0.0\n",
      "[[42, 'D']]\n",
      "Group:  44  Total= 1  et= 0.0\n",
      "[[44, 'D']]\n",
      "Group:  47  Total= 1  et= 0.0\n",
      "[[47, 'C']]\n",
      "Group:  49  Total= 1  et= 0.0\n",
      "[[49, 'C']]\n",
      "Group:  50  Total= 1  et= 0.0\n",
      "[[50, 'B']]\n",
      "Group:  54  Total= 1  et= 0.0\n",
      "[[54, 'B']]\n",
      "Group:  53  Total= 1  et= 0.0\n",
      "[[53, 'B']]\n",
      "weighted entropy:  0.0\n"
     ]
    }
   ],
   "source": [
    "#Split data based on column1 (Outlook)\n",
    "\n",
    "sps=split(data, 0)\n",
    "\n",
    "wtv=0  #weighted average.\n",
    "\n",
    "for sp in sps:\n",
    "    dt=sps[sp]\n",
    "    et=entropy(dt)\n",
    "    sw= (len(dt)/len(data) )*et  #weighted entropy. or probability*entropy\n",
    "    wtv+=sw\n",
    "    print('Group: ', sp, ' Total=', len(dt), ' et=', et)\n",
    "    pprint(dt)\n",
    "    \n",
    "print('weighted entropy: ', wtv)"
   ]
  },
  {
   "cell_type": "code",
   "execution_count": 65,
   "metadata": {},
   "outputs": [
    {
     "data": {
      "text/plain": [
       "1.9709505944546688"
      ]
     },
     "execution_count": 65,
     "metadata": {},
     "output_type": "execute_result"
    }
   ],
   "source": [
    "sps=split(data,0)\n",
    "ig(sps, es)"
   ]
  },
  {
   "cell_type": "code",
   "execution_count": 67,
   "metadata": {},
   "outputs": [
    {
     "name": "stdout",
     "output_type": "stream",
     "text": [
      "Group:  17  entropy:  0.0\n",
      "[[17, 'F']]\n",
      "Group:  25  entropy:  0.0\n",
      "[[25, 'F']]\n",
      "Group:  38  entropy:  0.0\n",
      "[[38, 'F']]\n",
      "Group:  42  entropy:  0.0\n",
      "[[42, 'D']]\n",
      "Group:  44  entropy:  0.0\n",
      "[[44, 'D']]\n",
      "Group:  47  entropy:  0.0\n",
      "[[47, 'C']]\n",
      "Group:  49  entropy:  0.0\n",
      "[[49, 'C']]\n",
      "Group:  50  entropy:  0.0\n",
      "[[50, 'B']]\n",
      "Group:  54  entropy:  0.0\n",
      "[[54, 'B']]\n",
      "Group:  53  entropy:  0.0\n",
      "[[53, 'B']]\n"
     ]
    }
   ],
   "source": [
    "#Largest Entropy Gain is for column 0 (Outlook)\n",
    "groups=split(data, 0)\n",
    "for groupname, rows in groups.items():\n",
    "    print('Group: ', groupname, ' entropy: ', entropy(rows))\n",
    "    pprint(rows)"
   ]
  },
  {
   "cell_type": "code",
   "execution_count": null,
   "metadata": {},
   "outputs": [],
   "source": []
  }
 ],
 "metadata": {
  "kernelspec": {
   "display_name": "Python 3",
   "language": "python",
   "name": "python3"
  },
  "language_info": {
   "codemirror_mode": {
    "name": "ipython",
    "version": 3
   },
   "file_extension": ".py",
   "mimetype": "text/x-python",
   "name": "python",
   "nbconvert_exporter": "python",
   "pygments_lexer": "ipython3",
   "version": "3.7.1"
  }
 },
 "nbformat": 4,
 "nbformat_minor": 2
}
