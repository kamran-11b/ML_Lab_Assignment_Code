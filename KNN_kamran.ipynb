{
 "cells": [
  {
   "cell_type": "code",
   "execution_count": 106,
   "metadata": {},
   "outputs": [],
   "source": [
    "import numpy as np\n",
    "from sklearn.model_selection import train_test_split\n",
    "from sklearn import datasets\n",
    "from collections import Counter"
   ]
  },
  {
   "cell_type": "code",
   "execution_count": 111,
   "metadata": {},
   "outputs": [],
   "source": [
    "iris = datasets.load_iris() \n",
    "X = iris.data\n",
    "y = iris.target\n",
    "names = iris.target_names"
   ]
  },
  {
   "cell_type": "code",
   "execution_count": 127,
   "metadata": {},
   "outputs": [
    {
     "name": "stdout",
     "output_type": "stream",
     "text": [
      "[[5.1 3.5 1.4 0.2]\n",
      " [4.9 3.  1.4 0.2]\n",
      " [4.7 3.2 1.3 0.2]\n",
      " [4.6 3.1 1.5 0.2]\n",
      " [5.  3.6 1.4 0.2]]\n",
      "[0 0 0 0 0]\n",
      "['setosa' 'versicolor' 'virginica']\n"
     ]
    }
   ],
   "source": [
    "print(X[:5])\n",
    "print(y[:5])\n",
    "print(names)"
   ]
  },
  {
   "cell_type": "code",
   "execution_count": 128,
   "metadata": {},
   "outputs": [],
   "source": [
    "x_train,x_test,y_train,y_test=train_test_split(X,y,test_size=0.2)"
   ]
  },
  {
   "cell_type": "code",
   "execution_count": 114,
   "metadata": {},
   "outputs": [
    {
     "name": "stdout",
     "output_type": "stream",
     "text": [
      "120\n",
      "30\n",
      "120\n",
      "30\n"
     ]
    }
   ],
   "source": [
    "print(len(x_train))\n",
    "print(len(x_test))\n",
    "print(len(y_train))\n",
    "print(len(y_test))\n",
    "#print(x_test[:10])"
   ]
  },
  {
   "cell_type": "code",
   "execution_count": 115,
   "metadata": {},
   "outputs": [],
   "source": [
    "def euclidean(x, x2):\n",
    "    sum=0\n",
    "    for ix,ix2 in zip(x,x2):\n",
    "        sum+=(ix-ix2)**2\n",
    "    return np.sqrt(sum)"
   ]
  },
  {
   "cell_type": "code",
   "execution_count": 116,
   "metadata": {},
   "outputs": [],
   "source": [
    "#euclidean([0,0], [3,4])"
   ]
  },
  {
   "cell_type": "code",
   "execution_count": 117,
   "metadata": {},
   "outputs": [],
   "source": [
    "xt=[5.1, 3., 4.2, 1.5]"
   ]
  },
  {
   "cell_type": "code",
   "execution_count": 118,
   "metadata": {},
   "outputs": [],
   "source": [
    "dist={}\n",
    "for i, x in enumerate(x_train):\n",
    "    ed=euclidean(x, xt)\n",
    "    dist[i]=ed\n"
   ]
  },
  {
   "cell_type": "code",
   "execution_count": 119,
   "metadata": {},
   "outputs": [],
   "source": [
    "#print(dist)"
   ]
  },
  {
   "cell_type": "code",
   "execution_count": 120,
   "metadata": {},
   "outputs": [],
   "source": [
    "sorted_d = sorted(dist.items(), key=lambda kv: kv[1])"
   ]
  },
  {
   "cell_type": "code",
   "execution_count": 121,
   "metadata": {
    "scrolled": true
   },
   "outputs": [
    {
     "name": "stdout",
     "output_type": "stream",
     "text": [
      "[(108, 0.4242640687119289), (34, 0.44721359549995815), (72, 0.5477225575051662), (57, 0.58309518948453), (47, 0.6403124237432853), (91, 0.6480740698407857), (7, 0.6708203932499371), (60, 0.6708203932499374), (70, 0.6708203932499376), (11, 0.7000000000000002), (114, 0.7280109889280523), (79, 0.8000000000000007), (75, 0.8660254037844387), (55, 0.871779788708135), (53, 0.9165151389911683), (81, 0.9539392014169459), (24, 1.009950493836208), (54, 1.0148891565092222), (42, 1.0344080432788603), (16, 1.0583005244258363), (27, 1.0630145812734653), (8, 1.0816653826391966), (48, 1.1224972160321824), (43, 1.1224972160321829), (13, 1.1269427669584644), (15, 1.126942766958465), (61, 1.174734012447073), (113, 1.2083045973594573), (4, 1.2247448713915892), (49, 1.2409673645990857), (65, 1.244989959798873), (107, 1.244989959798873), (5, 1.24899959967968), (14, 1.2569805089976536), (88, 1.30384048104053), (56, 1.319090595827292), (112, 1.3228756555322954), (119, 1.322875655532296), (62, 1.3379088160259653), (98, 1.3601470508735445), (68, 1.392838827718412), (103, 1.4177446878757827), (97, 1.445683229480096), (37, 1.452583904633395), (78, 1.4696938456699071), (10, 1.4764823060233403), (82, 1.5132745950421556), (3, 1.5165750888103102), (29, 1.5684387141358123), (116, 1.57797338380595), (36, 1.6186414056238652), (85, 1.6792855623746672), (95, 1.7691806012954128), (12, 1.791647286716892), (67, 1.8000000000000005), (40, 1.8165902124584952), (89, 1.8574175621006712), (86, 1.8708286933869704), (66, 1.8920887928424504), (30, 1.9339079605813716), (35, 1.9773719933285192), (44, 2.012461179749811), (17, 2.0445048300260873), (52, 2.04939015319192), (93, 2.0904544960366866), (45, 2.1679483388678804), (26, 2.222611077089287), (22, 2.238302928559939), (90, 2.247220505424424), (83, 2.2934689882359436), (41, 2.3366642891095846), (31, 2.4020824298928627), (76, 2.428991560298224), (58, 2.4839484696748446), (19, 2.6419689627245813), (38, 2.6720778431774774), (33, 2.6888659319497505), (6, 2.6925824035672523), (59, 2.7892651361962706), (99, 2.7982137159266447), (100, 2.8530685235374214), (106, 2.891366458960192), (69, 2.9086079144497976), (101, 2.924038303442689), (111, 2.947880594596735), (102, 2.9495762407505253), (74, 2.9580398915498085), (28, 2.99833287011299), (94, 3.004995840263344), (46, 3.0166206257996713), (118, 3.023243291566195), (51, 3.024896692450835), (18, 3.0397368307141326), (32, 3.0397368307141326), (84, 3.057776970284131), (50, 3.0610455730027937), (110, 3.0610455730027937), (92, 3.062678566222711), (1, 3.083828789021855), (117, 3.10322412983658), (25, 3.1128764832546763), (115, 3.1144823004794877), (104, 3.1272991542223783), (105, 3.13368792319848), (77, 3.144837038703278), (39, 3.146426544510455), (9, 3.1937438845342627), (109, 3.2093613071762426), (20, 3.241913015489466), (80, 3.2603680773802215), (2, 3.2710854467592254), (73, 3.277193921634788), (63, 3.289376840679706), (23, 3.318132004607412), (96, 3.336165463522456), (0, 3.4899856733230297), (71, 3.4942810419312296), (64, 3.5171010790137944), (87, 3.5411862419251547), (21, 3.683748091278773)]\n"
     ]
    }
   ],
   "source": [
    "print(sorted_d)"
   ]
  },
  {
   "cell_type": "code",
   "execution_count": 129,
   "metadata": {},
   "outputs": [
    {
     "name": "stdout",
     "output_type": "stream",
     "text": [
      "[108, 34, 72, 57, 47, 91, 7, 60, 70, 11, 114, 79, 75, 55, 53, 81, 24, 54, 42, 16, 27, 8, 48, 43, 13, 15, 61, 113, 4, 49, 65, 107, 5, 14, 88, 56, 112, 119, 62, 98, 68, 103, 97, 37, 78, 10, 82, 3, 29, 116, 36, 85, 95, 12, 67, 40, 89, 86, 66, 30, 35, 44, 17, 52, 93, 45, 26, 22, 90, 83, 41, 31, 76, 58, 19, 38, 33, 6, 59, 99, 100, 106, 69, 101, 111, 102, 74, 28, 94, 46, 118, 51, 18, 32, 84, 50, 110, 92, 1, 117, 25, 115, 104, 105, 77, 39, 9, 109, 20, 80, 2, 73, 63, 23, 96, 0, 71, 64, 87]\n"
     ]
    }
   ],
   "source": [
    "k=119\n",
    "neighbors=[]\n",
    "for i in range(k):\n",
    "    neighbors.append(sorted_d[i][0])\n",
    "print(neighbors)"
   ]
  },
  {
   "cell_type": "code",
   "execution_count": 130,
   "metadata": {},
   "outputs": [
    {
     "name": "stdout",
     "output_type": "stream",
     "text": [
      "[2, 1, 2, 0, 1, 0, 2, 2, 1, 2, 1, 0, 0, 0, 0, 0, 1, 1, 1, 1, 2, 2, 0, 0, 1, 2, 0, 1, 0, 1, 2, 2, 1, 2, 2, 0, 2, 2, 2, 0, 0, 1, 2, 0, 1, 2, 1, 0, 1, 2, 0, 2, 1, 1, 0, 0, 0, 1, 1, 1, 1, 0, 2, 2, 1, 0, 2, 0, 0, 0, 2, 0, 0, 2, 1, 1, 1, 2, 1, 0, 2, 1, 0, 1, 2, 0, 2, 0, 1, 0, 2, 1, 1, 0, 1, 2, 0, 0, 2, 0, 0, 2, 1, 2, 0, 0, 2, 2, 2, 1, 2, 1, 2, 0, 1, 2, 1, 2, 0]\n"
     ]
    }
   ],
   "source": [
    "classes=[ y_train[i] for i in neighbors]\n",
    "print(classes)"
   ]
  },
  {
   "cell_type": "code",
   "execution_count": 131,
   "metadata": {},
   "outputs": [
    {
     "name": "stdout",
     "output_type": "stream",
     "text": [
      "Counter({0: 41, 2: 40, 1: 38})\n"
     ]
    }
   ],
   "source": [
    "count=Counter(classes)\n",
    "print(count)"
   ]
  },
  {
   "cell_type": "code",
   "execution_count": 125,
   "metadata": {},
   "outputs": [
    {
     "name": "stdout",
     "output_type": "stream",
     "text": [
      "keys= [1, 2, 0]\n",
      "values= [42, 39, 34]\n"
     ]
    }
   ],
   "source": [
    "keys= list( count.keys() )\n",
    "print('keys=', keys)\n",
    "values=list( count.values() )\n",
    "print('values=',values)"
   ]
  },
  {
   "cell_type": "code",
   "execution_count": 126,
   "metadata": {},
   "outputs": [
    {
     "name": "stdout",
     "output_type": "stream",
     "text": [
      "index of max value= 0\n",
      "predict class= 1\n"
     ]
    }
   ],
   "source": [
    "index_of_max_values=values.index(max(values)) \n",
    "print('index of max value=', index_of_max_values)\n",
    "y_hat=keys[index_of_max_values]\n",
    "print('predict class=',y_hat)"
   ]
  },
  {
   "cell_type": "code",
   "execution_count": null,
   "metadata": {},
   "outputs": [],
   "source": []
  }
 ],
 "metadata": {
  "kernelspec": {
   "display_name": "Python 3",
   "language": "python",
   "name": "python3"
  },
  "language_info": {
   "codemirror_mode": {
    "name": "ipython",
    "version": 3
   },
   "file_extension": ".py",
   "mimetype": "text/x-python",
   "name": "python",
   "nbconvert_exporter": "python",
   "pygments_lexer": "ipython3",
   "version": "3.7.1"
  }
 },
 "nbformat": 4,
 "nbformat_minor": 2
}
