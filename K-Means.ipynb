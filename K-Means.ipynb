{
 "cells": [
  {
   "cell_type": "markdown",
   "metadata": {},
   "source": [
    "# Topic: Naive Bayes Classifier\n",
    "\n",
    "Md Kamran Ahmad\n",
    "\n",
    "ID:160103020033"
   ]
  },
  {
   "cell_type": "code",
   "execution_count": 1,
   "metadata": {},
   "outputs": [],
   "source": [
    "import numpy as np\n",
    "import matplotlib.pyplot as plt \n",
    "from pprint import pprint\n",
    "from sklearn import datasets\n",
    "from sklearn.metrics import accuracy_score"
   ]
  },
  {
   "cell_type": "code",
   "execution_count": 2,
   "metadata": {},
   "outputs": [
    {
     "name": "stdout",
     "output_type": "stream",
     "text": [
      "[[5.1 3.5 1.4 0.2]\n",
      " [4.9 3.  1.4 0.2]\n",
      " [4.7 3.2 1.3 0.2]\n",
      " [4.6 3.1 1.5 0.2]\n",
      " [5.  3.6 1.4 0.2]]\n",
      "[0 0 0 0 0 0 0 0 0 0 0 0 0 0 0 0 0 0 0 0]\n"
     ]
    }
   ],
   "source": [
    "iris =  datasets.load_iris() \n",
    "x = iris.data \n",
    "y = iris.target\n",
    "print(x[:5])\n",
    "print(y[:20])"
   ]
  },
  {
   "cell_type": "code",
   "execution_count": 3,
   "metadata": {},
   "outputs": [
    {
     "name": "stdout",
     "output_type": "stream",
     "text": [
      "[0.2 0.2 0.2 0.2 0.2 0.4 0.3 0.2 0.2 0.1 0.2 0.2 0.1 0.1 0.2 0.4 0.4 0.3\n",
      " 0.3 0.3 0.2 0.4 0.2 0.5 0.2 0.2 0.4 0.2 0.2 0.2 0.2 0.4 0.1 0.2 0.2 0.2\n",
      " 0.2 0.1 0.2 0.2 0.3 0.3 0.2 0.6 0.4 0.3 0.2 0.2 0.2 0.2 1.4 1.5 1.5 1.3\n",
      " 1.5 1.3 1.6 1.  1.3 1.4 1.  1.5 1.  1.4 1.3 1.4 1.5 1.  1.5 1.1 1.8 1.3\n",
      " 1.5 1.2 1.3 1.4 1.4 1.7 1.5 1.  1.1 1.  1.2 1.6 1.5 1.6 1.5 1.3 1.3 1.3\n",
      " 1.2 1.4 1.2 1.  1.3 1.2 1.3 1.3 1.1 1.3 2.5 1.9 2.1 1.8 2.2 2.1 1.7 1.8\n",
      " 1.8 2.5 2.  1.9 2.1 2.  2.4 2.3 1.8 2.2 2.3 1.5 2.3 2.  2.  1.8 2.1 1.8\n",
      " 1.8 1.8 2.1 1.6 1.9 2.  2.2 1.5 1.4 2.3 2.4 1.8 1.8 2.1 2.4 2.3 1.9 2.3\n",
      " 2.5 2.3 1.9 2.  2.3 1.8]\n"
     ]
    }
   ],
   "source": [
    "#print(x[:,0])\n",
    "#print(x[:,1])\n",
    "#print(x[:,2])\n",
    "print(x[:,3])"
   ]
  },
  {
   "cell_type": "code",
   "execution_count": 4,
   "metadata": {},
   "outputs": [],
   "source": [
    "#plt.scatter(x[:,0],x[:,1],marker='*', c=y)\n",
    "#plt.show()"
   ]
  },
  {
   "cell_type": "code",
   "execution_count": 5,
   "metadata": {},
   "outputs": [],
   "source": [
    "#plt.scatter(x[:,2],x[:,3],marker='*', c=y) \n",
    "#plt.show()"
   ]
  },
  {
   "cell_type": "code",
   "execution_count": 6,
   "metadata": {},
   "outputs": [
    {
     "data": {
      "image/png": "[encoded data removed]",
      "text/plain": [
       "<Figure size 432x288 with 1 Axes>"
      ]
     },
     "metadata": {
      "needs_background": "light"
     },
     "output_type": "display_data"
    }
   ],
   "source": [
    "plt.scatter(x[:,0],x[:,1],marker='*', c=y)\n",
    "plt.scatter(x[:,2],x[:,3],marker='*', c=y) \n",
    "plt.show()"
   ]
  },
  {
   "cell_type": "code",
   "execution_count": 7,
   "metadata": {},
   "outputs": [],
   "source": [
    "def get_random_centroids(k):\n",
    "    centroids={}\n",
    "    while True:\n",
    "        ri=np.random.choice(range(len(x)), k)\n",
    "        print(ri)\n",
    "        if len(set(ri))==k:  #found distinct k indexes.\n",
    "            for i in range(k):\n",
    "                centroids[i]=x[ri[i]]\n",
    "            break\n",
    "\n",
    "    return centroids"
   ]
  },
  {
   "cell_type": "code",
   "execution_count": 8,
   "metadata": {},
   "outputs": [
    {
     "name": "stdout",
     "output_type": "stream",
     "text": [
      "[140  82  26]\n",
      "{0: array([6.7, 3.1, 5.6, 2.4]), 1: array([5.8, 2.7, 3.9, 1.2]), 2: array([5. , 3.4, 1.6, 0.4])}\n"
     ]
    }
   ],
   "source": [
    "k = 3\n",
    "centroids=get_random_centroids(k)\n",
    "#print(centroids.keys())\n",
    "print(centroids)"
   ]
  },
  {
   "cell_type": "code",
   "execution_count": 9,
   "metadata": {},
   "outputs": [],
   "source": [
    "def e_dist(x1, x2):\n",
    "    return np.sqrt( (x1[0]-x2[0])**2 +  (x1[1]-x2[1])**2)\n",
    "\n",
    "def e_dist(x1, x2):\n",
    "    return np.linalg.norm(x1-x2)"
   ]
  },
  {
   "cell_type": "code",
   "execution_count": 10,
   "metadata": {},
   "outputs": [
    {
     "data": {
      "text/plain": [
       "5.0"
      ]
     },
     "execution_count": 10,
     "metadata": {},
     "output_type": "execute_result"
    }
   ],
   "source": [
    "e_dist(np.array([0,0]), np.array([3,4]))"
   ]
  },
  {
   "cell_type": "code",
   "execution_count": 11,
   "metadata": {},
   "outputs": [
    {
     "name": "stdout",
     "output_type": "stream",
     "text": [
      "dict_items([(0, array([6.7, 3.1, 5.6, 2.4])), (1, array([5.8, 2.7, 3.9, 1.2])), (2, array([5. , 3.4, 1.6, 0.4]))])\n"
     ]
    }
   ],
   "source": [
    "print(centroids.items())"
   ]
  },
  {
   "cell_type": "code",
   "execution_count": 12,
   "metadata": {},
   "outputs": [
    {
     "name": "stdout",
     "output_type": "stream",
     "text": [
      "[6.100819617067858, 6.998571282769077, 7.660287200882223]\n",
      "0\n"
     ]
    }
   ],
   "source": [
    "xx=[8,9,5,3]\n",
    "dd=[e_dist(xx,v) for k,v in centroids.items() ]\n",
    "print(dd)\n",
    "\n",
    "closest=dd.index( min(dd) )\n",
    "print(closest)"
   ]
  },
  {
   "cell_type": "code",
   "execution_count": 13,
   "metadata": {},
   "outputs": [
    {
     "name": "stdout",
     "output_type": "stream",
     "text": [
      "xx = [5.1 3.5 1.4 0.2]  closest centroid = [5.  3.4 1.6 0.4]\n",
      "xx = [4.9 3.  1.4 0.2]  closest centroid = [5.  3.4 1.6 0.4]\n",
      "xx = [4.7 3.2 1.3 0.2]  closest centroid = [5.  3.4 1.6 0.4]\n",
      "xx = [4.6 3.1 1.5 0.2]  closest centroid = [5.  3.4 1.6 0.4]\n",
      "xx = [5.  3.6 1.4 0.2]  closest centroid = [5.  3.4 1.6 0.4]\n",
      "xx = [5.4 3.9 1.7 0.4]  closest centroid = [5.  3.4 1.6 0.4]\n",
      "xx = [4.6 3.4 1.4 0.3]  closest centroid = [5.  3.4 1.6 0.4]\n",
      "xx = [5.  3.4 1.5 0.2]  closest centroid = [5.  3.4 1.6 0.4]\n",
      "xx = [4.4 2.9 1.4 0.2]  closest centroid = [5.  3.4 1.6 0.4]\n",
      "xx = [4.9 3.1 1.5 0.1]  closest centroid = [5.  3.4 1.6 0.4]\n",
      "xx = [5.4 3.7 1.5 0.2]  closest centroid = [5.  3.4 1.6 0.4]\n",
      "xx = [4.8 3.4 1.6 0.2]  closest centroid = [5.  3.4 1.6 0.4]\n",
      "xx = [4.8 3.  1.4 0.1]  closest centroid = [5.  3.4 1.6 0.4]\n",
      "xx = [4.3 3.  1.1 0.1]  closest centroid = [5.  3.4 1.6 0.4]\n",
      "xx = [5.8 4.  1.2 0.2]  closest centroid = [5.  3.4 1.6 0.4]\n",
      "xx = [5.7 4.4 1.5 0.4]  closest centroid = [5.  3.4 1.6 0.4]\n",
      "xx = [5.4 3.9 1.3 0.4]  closest centroid = [5.  3.4 1.6 0.4]\n",
      "xx = [5.1 3.5 1.4 0.3]  closest centroid = [5.  3.4 1.6 0.4]\n",
      "xx = [5.7 3.8 1.7 0.3]  closest centroid = [5.  3.4 1.6 0.4]\n",
      "xx = [5.1 3.8 1.5 0.3]  closest centroid = [5.  3.4 1.6 0.4]\n",
      "xx = [5.4 3.4 1.7 0.2]  closest centroid = [5.  3.4 1.6 0.4]\n",
      "xx = [5.1 3.7 1.5 0.4]  closest centroid = [5.  3.4 1.6 0.4]\n",
      "xx = [4.6 3.6 1.  0.2]  closest centroid = [5.  3.4 1.6 0.4]\n",
      "xx = [5.1 3.3 1.7 0.5]  closest centroid = [5.  3.4 1.6 0.4]\n",
      "xx = [4.8 3.4 1.9 0.2]  closest centroid = [5.  3.4 1.6 0.4]\n",
      "xx = [5.  3.  1.6 0.2]  closest centroid = [5.  3.4 1.6 0.4]\n",
      "xx = [5.  3.4 1.6 0.4]  closest centroid = [5.  3.4 1.6 0.4]\n",
      "xx = [5.2 3.5 1.5 0.2]  closest centroid = [5.  3.4 1.6 0.4]\n",
      "xx = [5.2 3.4 1.4 0.2]  closest centroid = [5.  3.4 1.6 0.4]\n",
      "xx = [4.7 3.2 1.6 0.2]  closest centroid = [5.  3.4 1.6 0.4]\n",
      "xx = [4.8 3.1 1.6 0.2]  closest centroid = [5.  3.4 1.6 0.4]\n",
      "xx = [5.4 3.4 1.5 0.4]  closest centroid = [5.  3.4 1.6 0.4]\n",
      "xx = [5.2 4.1 1.5 0.1]  closest centroid = [5.  3.4 1.6 0.4]\n",
      "xx = [5.5 4.2 1.4 0.2]  closest centroid = [5.  3.4 1.6 0.4]\n",
      "xx = [4.9 3.1 1.5 0.2]  closest centroid = [5.  3.4 1.6 0.4]\n",
      "xx = [5.  3.2 1.2 0.2]  closest centroid = [5.  3.4 1.6 0.4]\n",
      "xx = [5.5 3.5 1.3 0.2]  closest centroid = [5.  3.4 1.6 0.4]\n",
      "xx = [4.9 3.6 1.4 0.1]  closest centroid = [5.  3.4 1.6 0.4]\n",
      "xx = [4.4 3.  1.3 0.2]  closest centroid = [5.  3.4 1.6 0.4]\n",
      "xx = [5.1 3.4 1.5 0.2]  closest centroid = [5.  3.4 1.6 0.4]\n",
      "xx = [5.  3.5 1.3 0.3]  closest centroid = [5.  3.4 1.6 0.4]\n",
      "xx = [4.5 2.3 1.3 0.3]  closest centroid = [5.  3.4 1.6 0.4]\n",
      "xx = [4.4 3.2 1.3 0.2]  closest centroid = [5.  3.4 1.6 0.4]\n",
      "xx = [5.  3.5 1.6 0.6]  closest centroid = [5.  3.4 1.6 0.4]\n",
      "xx = [5.1 3.8 1.9 0.4]  closest centroid = [5.  3.4 1.6 0.4]\n",
      "xx = [4.8 3.  1.4 0.3]  closest centroid = [5.  3.4 1.6 0.4]\n",
      "xx = [5.1 3.8 1.6 0.2]  closest centroid = [5.  3.4 1.6 0.4]\n",
      "xx = [4.6 3.2 1.4 0.2]  closest centroid = [5.  3.4 1.6 0.4]\n",
      "xx = [5.3 3.7 1.5 0.2]  closest centroid = [5.  3.4 1.6 0.4]\n",
      "xx = [5.  3.3 1.4 0.2]  closest centroid = [5.  3.4 1.6 0.4]\n",
      "xx = [7.  3.2 4.7 1.4]  closest centroid = [6.7 3.1 5.6 2.4]\n",
      "xx = [6.4 3.2 4.5 1.5]  closest centroid = [5.8 2.7 3.9 1.2]\n",
      "xx = [6.9 3.1 4.9 1.5]  closest centroid = [6.7 3.1 5.6 2.4]\n",
      "xx = [5.5 2.3 4.  1.3]  closest centroid = [5.8 2.7 3.9 1.2]\n",
      "xx = [6.5 2.8 4.6 1.5]  closest centroid = [5.8 2.7 3.9 1.2]\n",
      "xx = [5.7 2.8 4.5 1.3]  closest centroid = [5.8 2.7 3.9 1.2]\n",
      "xx = [6.3 3.3 4.7 1.6]  closest centroid = [5.8 2.7 3.9 1.2]\n",
      "xx = [4.9 2.4 3.3 1. ]  closest centroid = [5.8 2.7 3.9 1.2]\n",
      "xx = [6.6 2.9 4.6 1.3]  closest centroid = [5.8 2.7 3.9 1.2]\n",
      "xx = [5.2 2.7 3.9 1.4]  closest centroid = [5.8 2.7 3.9 1.2]\n",
      "xx = [5.  2.  3.5 1. ]  closest centroid = [5.8 2.7 3.9 1.2]\n",
      "xx = [5.9 3.  4.2 1.5]  closest centroid = [5.8 2.7 3.9 1.2]\n",
      "xx = [6.  2.2 4.  1. ]  closest centroid = [5.8 2.7 3.9 1.2]\n",
      "xx = [6.1 2.9 4.7 1.4]  closest centroid = [5.8 2.7 3.9 1.2]\n",
      "xx = [5.6 2.9 3.6 1.3]  closest centroid = [5.8 2.7 3.9 1.2]\n",
      "xx = [6.7 3.1 4.4 1.4]  closest centroid = [5.8 2.7 3.9 1.2]\n",
      "xx = [5.6 3.  4.5 1.5]  closest centroid = [5.8 2.7 3.9 1.2]\n",
      "xx = [5.8 2.7 4.1 1. ]  closest centroid = [5.8 2.7 3.9 1.2]\n",
      "xx = [6.2 2.2 4.5 1.5]  closest centroid = [5.8 2.7 3.9 1.2]\n",
      "xx = [5.6 2.5 3.9 1.1]  closest centroid = [5.8 2.7 3.9 1.2]\n",
      "xx = [5.9 3.2 4.8 1.8]  closest centroid = [5.8 2.7 3.9 1.2]\n",
      "xx = [6.1 2.8 4.  1.3]  closest centroid = [5.8 2.7 3.9 1.2]\n",
      "xx = [6.3 2.5 4.9 1.5]  closest centroid = [5.8 2.7 3.9 1.2]\n",
      "xx = [6.1 2.8 4.7 1.2]  closest centroid = [5.8 2.7 3.9 1.2]\n",
      "xx = [6.4 2.9 4.3 1.3]  closest centroid = [5.8 2.7 3.9 1.2]\n",
      "xx = [6.6 3.  4.4 1.4]  closest centroid = [5.8 2.7 3.9 1.2]\n",
      "xx = [6.8 2.8 4.8 1.4]  closest centroid = [6.7 3.1 5.6 2.4]\n",
      "xx = [6.7 3.  5.  1.7]  closest centroid = [6.7 3.1 5.6 2.4]\n",
      "xx = [6.  2.9 4.5 1.5]  closest centroid = [5.8 2.7 3.9 1.2]\n",
      "xx = [5.7 2.6 3.5 1. ]  closest centroid = [5.8 2.7 3.9 1.2]\n",
      "xx = [5.5 2.4 3.8 1.1]  closest centroid = [5.8 2.7 3.9 1.2]\n",
      "xx = [5.5 2.4 3.7 1. ]  closest centroid = [5.8 2.7 3.9 1.2]\n",
      "xx = [5.8 2.7 3.9 1.2]  closest centroid = [5.8 2.7 3.9 1.2]\n",
      "xx = [6.  2.7 5.1 1.6]  closest centroid = [6.7 3.1 5.6 2.4]\n",
      "xx = [5.4 3.  4.5 1.5]  closest centroid = [5.8 2.7 3.9 1.2]\n",
      "xx = [6.  3.4 4.5 1.6]  closest centroid = [5.8 2.7 3.9 1.2]\n",
      "xx = [6.7 3.1 4.7 1.5]  closest centroid = [6.7 3.1 5.6 2.4]\n",
      "xx = [6.3 2.3 4.4 1.3]  closest centroid = [5.8 2.7 3.9 1.2]\n",
      "xx = [5.6 3.  4.1 1.3]  closest centroid = [5.8 2.7 3.9 1.2]\n",
      "xx = [5.5 2.5 4.  1.3]  closest centroid = [5.8 2.7 3.9 1.2]\n",
      "xx = [5.5 2.6 4.4 1.2]  closest centroid = [5.8 2.7 3.9 1.2]\n",
      "xx = [6.1 3.  4.6 1.4]  closest centroid = [5.8 2.7 3.9 1.2]\n",
      "xx = [5.8 2.6 4.  1.2]  closest centroid = [5.8 2.7 3.9 1.2]\n",
      "xx = [5.  2.3 3.3 1. ]  closest centroid = [5.8 2.7 3.9 1.2]\n",
      "xx = [5.6 2.7 4.2 1.3]  closest centroid = [5.8 2.7 3.9 1.2]\n",
      "xx = [5.7 3.  4.2 1.2]  closest centroid = [5.8 2.7 3.9 1.2]\n",
      "xx = [5.7 2.9 4.2 1.3]  closest centroid = [5.8 2.7 3.9 1.2]\n",
      "xx = [6.2 2.9 4.3 1.3]  closest centroid = [5.8 2.7 3.9 1.2]\n",
      "xx = [5.1 2.5 3.  1.1]  closest centroid = [5.8 2.7 3.9 1.2]\n",
      "xx = [5.7 2.8 4.1 1.3]  closest centroid = [5.8 2.7 3.9 1.2]\n",
      "xx = [6.3 3.3 6.  2.5]  closest centroid = [6.7 3.1 5.6 2.4]\n",
      "xx = [5.8 2.7 5.1 1.9]  closest centroid = [6.7 3.1 5.6 2.4]\n",
      "xx = [7.1 3.  5.9 2.1]  closest centroid = [6.7 3.1 5.6 2.4]\n",
      "xx = [6.3 2.9 5.6 1.8]  closest centroid = [6.7 3.1 5.6 2.4]\n",
      "xx = [6.5 3.  5.8 2.2]  closest centroid = [6.7 3.1 5.6 2.4]\n",
      "xx = [7.6 3.  6.6 2.1]  closest centroid = [6.7 3.1 5.6 2.4]\n",
      "xx = [4.9 2.5 4.5 1.7]  closest centroid = [5.8 2.7 3.9 1.2]\n",
      "xx = [7.3 2.9 6.3 1.8]  closest centroid = [6.7 3.1 5.6 2.4]\n",
      "xx = [6.7 2.5 5.8 1.8]  closest centroid = [6.7 3.1 5.6 2.4]\n",
      "xx = [7.2 3.6 6.1 2.5]  closest centroid = [6.7 3.1 5.6 2.4]\n",
      "xx = [6.5 3.2 5.1 2. ]  closest centroid = [6.7 3.1 5.6 2.4]\n",
      "xx = [6.4 2.7 5.3 1.9]  closest centroid = [6.7 3.1 5.6 2.4]\n",
      "xx = [6.8 3.  5.5 2.1]  closest centroid = [6.7 3.1 5.6 2.4]\n",
      "xx = [5.7 2.5 5.  2. ]  closest centroid = [6.7 3.1 5.6 2.4]\n",
      "xx = [5.8 2.8 5.1 2.4]  closest centroid = [6.7 3.1 5.6 2.4]\n",
      "xx = [6.4 3.2 5.3 2.3]  closest centroid = [6.7 3.1 5.6 2.4]\n",
      "xx = [6.5 3.  5.5 1.8]  closest centroid = [6.7 3.1 5.6 2.4]\n",
      "xx = [7.7 3.8 6.7 2.2]  closest centroid = [6.7 3.1 5.6 2.4]\n",
      "xx = [7.7 2.6 6.9 2.3]  closest centroid = [6.7 3.1 5.6 2.4]\n",
      "xx = [6.  2.2 5.  1.5]  closest centroid = [5.8 2.7 3.9 1.2]\n",
      "xx = [6.9 3.2 5.7 2.3]  closest centroid = [6.7 3.1 5.6 2.4]\n",
      "xx = [5.6 2.8 4.9 2. ]  closest centroid = [5.8 2.7 3.9 1.2]\n",
      "xx = [7.7 2.8 6.7 2. ]  closest centroid = [6.7 3.1 5.6 2.4]\n",
      "xx = [6.3 2.7 4.9 1.8]  closest centroid = [6.7 3.1 5.6 2.4]\n",
      "xx = [6.7 3.3 5.7 2.1]  closest centroid = [6.7 3.1 5.6 2.4]\n",
      "xx = [7.2 3.2 6.  1.8]  closest centroid = [6.7 3.1 5.6 2.4]\n",
      "xx = [6.2 2.8 4.8 1.8]  closest centroid = [6.7 3.1 5.6 2.4]\n",
      "xx = [6.1 3.  4.9 1.8]  closest centroid = [6.7 3.1 5.6 2.4]\n",
      "xx = [6.4 2.8 5.6 2.1]  closest centroid = [6.7 3.1 5.6 2.4]\n",
      "xx = [7.2 3.  5.8 1.6]  closest centroid = [6.7 3.1 5.6 2.4]\n",
      "xx = [7.4 2.8 6.1 1.9]  closest centroid = [6.7 3.1 5.6 2.4]\n",
      "xx = [7.9 3.8 6.4 2. ]  closest centroid = [6.7 3.1 5.6 2.4]\n",
      "xx = [6.4 2.8 5.6 2.2]  closest centroid = [6.7 3.1 5.6 2.4]\n",
      "xx = [6.3 2.8 5.1 1.5]  closest centroid = [6.7 3.1 5.6 2.4]\n",
      "xx = [6.1 2.6 5.6 1.4]  closest centroid = [6.7 3.1 5.6 2.4]\n",
      "xx = [7.7 3.  6.1 2.3]  closest centroid = [6.7 3.1 5.6 2.4]\n",
      "xx = [6.3 3.4 5.6 2.4]  closest centroid = [6.7 3.1 5.6 2.4]\n",
      "xx = [6.4 3.1 5.5 1.8]  closest centroid = [6.7 3.1 5.6 2.4]\n",
      "xx = [6.  3.  4.8 1.8]  closest centroid = [5.8 2.7 3.9 1.2]\n",
      "xx = [6.9 3.1 5.4 2.1]  closest centroid = [6.7 3.1 5.6 2.4]\n",
      "xx = [6.7 3.1 5.6 2.4]  closest centroid = [6.7 3.1 5.6 2.4]\n",
      "xx = [6.9 3.1 5.1 2.3]  closest centroid = [6.7 3.1 5.6 2.4]\n",
      "xx = [5.8 2.7 5.1 1.9]  closest centroid = [6.7 3.1 5.6 2.4]\n",
      "xx = [6.8 3.2 5.9 2.3]  closest centroid = [6.7 3.1 5.6 2.4]\n",
      "xx = [6.7 3.3 5.7 2.5]  closest centroid = [6.7 3.1 5.6 2.4]\n",
      "xx = [6.7 3.  5.2 2.3]  closest centroid = [6.7 3.1 5.6 2.4]\n",
      "xx = [6.3 2.5 5.  1.9]  closest centroid = [6.7 3.1 5.6 2.4]\n",
      "xx = [6.5 3.  5.2 2. ]  closest centroid = [6.7 3.1 5.6 2.4]\n",
      "xx = [6.2 3.4 5.4 2.3]  closest centroid = [6.7 3.1 5.6 2.4]\n",
      "xx = [5.9 3.  5.1 1.8]  closest centroid = [6.7 3.1 5.6 2.4]\n"
     ]
    }
   ],
   "source": [
    "for xx in x:                                        #for each sample\n",
    "    dists=[e_dist(xx,v) for k,v in centroids.items() ]\n",
    "    closest=dists.index( min(dists) )\n",
    "    mc=list(centroids.values())[closest]\n",
    "    print('xx =',xx,' closest centroid =',mc)\n",
    "    "
   ]
  },
  {
   "cell_type": "code",
   "execution_count": 14,
   "metadata": {},
   "outputs": [
    {
     "name": "stdout",
     "output_type": "stream",
     "text": [
      "{0: array([6.7, 3.1, 5.6, 2.4]), 1: array([5.8, 2.7, 3.9, 1.2]), 2: array([5. , 3.4, 1.6, 0.4])}\n"
     ]
    }
   ],
   "source": [
    "print(centroids)"
   ]
  },
  {
   "cell_type": "markdown",
   "metadata": {},
   "source": [
    "# Finding Good K using elbow method"
   ]
  },
  {
   "cell_type": "code",
   "execution_count": 17,
   "metadata": {},
   "outputs": [
    {
     "name": "stdout",
     "output_type": "stream",
     "text": [
      "[42]\n",
      "centroids:  {0: array([4.4, 3.2, 1.3, 0.2])}\n",
      "centroids:  {0: array([5.84333333, 3.05733333, 3.758     , 1.19933333])}\n",
      "NO FURTHER UPDATE\n",
      "k= 1 sse= 681.3706000000001\n",
      "[131 101]\n",
      "centroids:  {0: array([7.9, 3.8, 6.4, 2. ]), 1: array([5.8, 2.7, 5.1, 1.9])}\n",
      "centroids:  {0: array([7.38571429, 3.13571429, 6.22857143, 2.08571429]), 1: array([5.68455882, 3.04926471, 3.50367647, 1.10808824])}\n",
      "centroids:  {0: array([6.80232558, 3.04418605, 5.64883721, 2.03023256]), 1: array([5.45794393, 3.06261682, 2.99813084, 0.86542056])}\n",
      "centroids:  {0: array([6.55070423, 2.96478873, 5.28732394, 1.85774648]), 1: array([5.20759494, 3.14050633, 2.3835443 , 0.60759494])}\n",
      "centroids:  {0: array([6.36777778, 2.91666667, 5.05666667, 1.74      ]), 1: array([5.05666667, 3.26833333, 1.81      , 0.38833333])}\n",
      "centroids:  {0: array([6.31458333, 2.89583333, 4.97395833, 1.703125  ]), 1: array([5.00555556, 3.34444444, 1.5962963 , 0.3037037 ])}\n",
      "centroids:  {0: array([6.30103093, 2.88659794, 4.95876289, 1.69587629]), 1: array([5.00566038, 3.36981132, 1.56037736, 0.29056604])}\n",
      "NO FURTHER UPDATE\n",
      "k= 2 sse= 152.34795176035794\n",
      "[23 92 85]\n",
      "centroids:  {0: array([5.1, 3.3, 1.7, 0.5]), 1: array([5.8, 2.6, 4. , 1.2]), 2: array([6. , 3.4, 4.5, 1.6])}\n",
      "centroids:  {0: array([5.006, 3.428, 1.462, 0.246]), 1: array([5.61034483, 2.56551724, 3.99655172, 1.22413793]), 2: array([6.52816901, 2.9971831 , 5.27746479, 1.86056338])}\n",
      "centroids:  {0: array([5.006, 3.428, 1.462, 0.246]), 1: array([5.66285714, 2.65142857, 4.06285714, 1.25428571]), 2: array([6.58461538, 2.99076923, 5.36      , 1.90307692])}\n",
      "centroids:  {0: array([5.006, 3.428, 1.462, 0.246]), 1: array([5.71538462, 2.67435897, 4.12307692, 1.27692308]), 2: array([6.61147541, 2.99836066, 5.40655738, 1.93114754])}\n",
      "centroids:  {0: array([5.006, 3.428, 1.462, 0.246]), 1: array([5.75238095, 2.7       , 4.15714286, 1.30238095]), 2: array([6.63103448, 2.99655172, 5.44827586, 1.94655172])}\n",
      "centroids:  {0: array([5.006, 3.428, 1.462, 0.246]), 1: array([5.79361702, 2.71914894, 4.2212766 , 1.34255319]), 2: array([6.67735849, 3.00754717, 5.51320755, 1.97169811])}\n",
      "centroids:  {0: array([5.006, 3.428, 1.462, 0.246]), 1: array([5.822, 2.728, 4.256, 1.36 ]), 2: array([6.702, 3.016, 5.556, 1.992])}\n",
      "centroids:  {0: array([5.006, 3.428, 1.462, 0.246]), 1: array([5.82962963, 2.73148148, 4.31481481, 1.39259259]), 2: array([6.76956522, 3.03695652, 5.6       , 2.00869565])}\n",
      "centroids:  {0: array([5.006, 3.428, 1.462, 0.246]), 1: array([5.85438596, 2.74210526, 4.34561404, 1.40877193]), 2: array([6.80232558, 3.04418605, 5.64883721, 2.03023256])}\n",
      "centroids:  {0: array([5.006, 3.428, 1.462, 0.246]), 1: array([5.885     , 2.74      , 4.37666667, 1.41833333]), 2: array([6.8275, 3.07  , 5.7   , 2.0625])}\n",
      "centroids:  {0: array([5.006, 3.428, 1.462, 0.246]), 1: array([5.88360656, 2.74098361, 4.38852459, 1.43442623]), 2: array([6.85384615, 3.07692308, 5.71538462, 2.05384615])}\n",
      "NO FURTHER UPDATE\n",
      "k= 3 sse= 78.85566582597723\n",
      "[126  39  48  11]\n",
      "centroids:  {0: array([6.2, 2.8, 4.8, 1.8]), 1: array([5.1, 3.4, 1.5, 0.2]), 2: array([5.3, 3.7, 1.5, 0.2]), 3: array([4.8, 3.4, 1.6, 0.2])}\n",
      "centroids:  {0: array([6.2877551 , 2.88061224, 4.94183673, 1.68877551]), 1: array([5.07777778, 3.38333333, 1.47222222, 0.26666667]), 2: array([5.37857143, 3.87857143, 1.50714286, 0.27857143]), 3: array([4.68 , 3.055, 1.59 , 0.285])}\n",
      "centroids:  {0: array([6.30103093, 2.88659794, 4.95876289, 1.69587629]), 1: array([5.05263158, 3.45263158, 1.45263158, 0.27368421]), 2: array([5.4       , 3.89230769, 1.50769231, 0.26923077]), 3: array([4.71904762, 2.97142857, 1.69047619, 0.31904762])}\n",
      "centroids:  {0: array([6.31458333, 2.89583333, 4.97395833, 1.703125  ]), 1: array([5.01428571, 3.43809524, 1.44285714, 0.27142857]), 2: array([5.4       , 3.89230769, 1.50769231, 0.26923077]), 3: array([4.74 , 2.89 , 1.815, 0.36 ])}\n",
      "centroids:  {0: array([6.31458333, 2.89583333, 4.97395833, 1.703125  ]), 1: array([4.95555556, 3.37777778, 1.45555556, 0.25185185]), 2: array([5.4       , 3.89230769, 1.50769231, 0.26923077]), 3: array([4.73571429, 2.77142857, 1.95      , 0.43571429])}\n",
      "centroids:  {0: array([6.31458333, 2.89583333, 4.97395833, 1.703125  ]), 1: array([4.88529412, 3.29117647, 1.45      , 0.23235294]), 2: array([5.37857143, 3.87857143, 1.50714286, 0.27857143]), 3: array([4.81666667, 2.4       , 2.63333333, 0.76666667])}\n",
      "centroids:  {0: array([6.35934066, 2.91208791, 5.04395604, 1.73296703]), 1: array([4.82941176, 3.24411765, 1.43529412, 0.22941176]), 2: array([5.38125, 3.81875, 1.51875, 0.28125]), 3: array([5.27777778, 2.46666667, 3.51111111, 1.1       ])}\n",
      "centroids:  {0: array([6.49868421, 2.96315789, 5.22894737, 1.82894737]), 1: array([4.81818182, 3.23636364, 1.43333333, 0.23030303]), 2: array([5.37058824, 3.8       , 1.51764706, 0.27647059]), 3: array([5.5125    , 2.58333333, 3.88333333, 1.19166667])}\n",
      "centroids:  {0: array([6.57014925, 2.9880597 , 5.33880597, 1.88507463]), 1: array([4.81818182, 3.23636364, 1.43333333, 0.23030303]), 2: array([5.37058824, 3.8       , 1.51764706, 0.27647059]), 3: array([5.63636364, 2.63636364, 4.02727273, 1.25151515])}\n",
      "centroids:  {0: array([6.6015873 , 2.98571429, 5.38412698, 1.91587302]), 1: array([4.81818182, 3.23636364, 1.43333333, 0.23030303]), 2: array([5.37058824, 3.8       , 1.51764706, 0.27647059]), 3: array([5.68378378, 2.67837838, 4.09189189, 1.26756757])}\n",
      "centroids:  {0: array([6.63220339, 2.99830508, 5.43050847, 1.93728814]), 1: array([4.81818182, 3.23636364, 1.43333333, 0.23030303]), 2: array([5.37058824, 3.8       , 1.51764706, 0.27647059]), 3: array([5.72926829, 2.6902439 , 4.15121951, 1.3       ])}\n",
      "centroids:  {0: array([6.66481481, 3.00740741, 5.5       , 1.96851852]), 1: array([4.81818182, 3.23636364, 1.43333333, 0.23030303]), 2: array([5.37058824, 3.8       , 1.51764706, 0.27647059]), 3: array([5.78913043, 2.71304348, 4.20869565, 1.3326087 ])}\n",
      "centroids:  {0: array([6.702, 3.016, 5.556, 1.992]), 1: array([4.81818182, 3.23636364, 1.43333333, 0.23030303]), 2: array([5.37058824, 3.8       , 1.51764706, 0.27647059]), 3: array([5.822, 2.728, 4.256, 1.36 ])}\n",
      "centroids:  {0: array([6.76956522, 3.03695652, 5.6       , 2.00869565]), 1: array([4.81818182, 3.23636364, 1.43333333, 0.23030303]), 2: array([5.37058824, 3.8       , 1.51764706, 0.27647059]), 3: array([5.82962963, 2.73148148, 4.31481481, 1.39259259])}\n",
      "centroids:  {0: array([6.80232558, 3.04418605, 5.64883721, 2.03023256]), 1: array([4.81818182, 3.23636364, 1.43333333, 0.23030303]), 2: array([5.37058824, 3.8       , 1.51764706, 0.27647059]), 3: array([5.85438596, 2.74210526, 4.34561404, 1.40877193])}\n",
      "centroids:  {0: array([6.8275, 3.07  , 5.7   , 2.0625]), 1: array([4.81818182, 3.23636364, 1.43333333, 0.23030303]), 2: array([5.37058824, 3.8       , 1.51764706, 0.27647059]), 3: array([5.885     , 2.74      , 4.37666667, 1.41833333])}\n",
      "centroids:  {0: array([6.85384615, 3.07692308, 5.71538462, 2.05384615]), 1: array([4.81818182, 3.23636364, 1.43333333, 0.23030303]), 2: array([5.37058824, 3.8       , 1.51764706, 0.27647059]), 3: array([5.88360656, 2.74098361, 4.38852459, 1.43442623])}\n",
      "NO FURTHER UPDATE\n",
      "k= 4 sse= 71.76373890975627\n",
      "[104  81  24  57 127]\n",
      "centroids:  {0: array([6.5, 3. , 5.8, 2.2]), 1: array([5.5, 2.4, 3.7, 1. ]), 2: array([4.8, 3.4, 1.9, 0.2]), 3: array([4.9, 2.4, 3.3, 1. ]), 4: array([6.1, 3. , 4.9, 1.8])}\n",
      "centroids:  {0: array([6.9125  , 3.1     , 5.846875, 2.13125 ]), 1: array([5.615, 2.64 , 4.005, 1.225]), 2: array([5.006, 3.428, 1.462, 0.246]), 3: array([5.   , 2.3  , 3.275, 1.025]), 4: array([6.19772727, 2.86363636, 4.77954545, 1.60909091])}\n",
      "centroids:  {0: array([6.9125  , 3.1     , 5.846875, 2.13125 ]), 1: array([5.62083333, 2.69166667, 4.075     , 1.2625    ]), 2: array([5.006, 3.428, 1.462, 0.246]), 3: array([5.   , 2.3  , 3.275, 1.025]), 4: array([6.2525, 2.855 , 4.815 , 1.625 ])}\n",
      "NO FURTHER UPDATE\n",
      "k= 5 sse= 52.99335416666664\n",
      "[35  2 83 90 78 52]\n",
      "centroids:  {0: array([5. , 3.2, 1.2, 0.2]), 1: array([4.7, 3.2, 1.3, 0.2]), 2: array([6. , 2.7, 5.1, 1.6]), 3: array([5.5, 2.6, 4.4, 1.2]), 4: array([6. , 2.9, 4.5, 1.5]), 5: array([6.9, 3.1, 4.9, 1.5])}\n",
      "centroids:  {0: array([5.209375, 3.6     , 1.4875  , 0.271875]), 1: array([4.64444444, 3.12222222, 1.41666667, 0.2       ]), 2: array([6.19642857, 2.83571429, 5.27857143, 1.925     ]), 3: array([5.492, 2.6  , 3.928, 1.204]), 4: array([6.12352941, 2.91764706, 4.50588235, 1.47058824]), 5: array([7.04333333, 3.10666667, 5.6       , 1.95333333])}\n",
      "centroids:  {0: array([5.23448276, 3.65517241, 1.49655172, 0.27931034]), 1: array([4.69047619, 3.11428571, 1.41428571, 0.2       ]), 2: array([6.188, 2.86 , 5.224, 1.912]), 3: array([5.48695652, 2.57391304, 3.87826087, 1.18695652]), 4: array([6.22592593, 2.91851852, 4.55185185, 1.46296296]), 5: array([7.088, 3.108, 5.916, 2.12 ])}\n",
      "centroids:  {0: array([5.24285714, 3.66785714, 1.5       , 0.28214286]), 1: array([4.70454545, 3.12272727, 1.41363636, 0.2       ]), 2: array([6.23333333, 2.87407407, 5.21851852, 1.94074074]), 3: array([5.48333333, 2.59166667, 3.90416667, 1.2       ]), 4: array([6.28148148, 2.92222222, 4.56666667, 1.46296296]), 5: array([7.12272727, 3.11363636, 6.03181818, 2.13181818])}\n",
      "centroids:  {0: array([5.24285714, 3.66785714, 1.5       , 0.28214286]), 1: array([4.70454545, 3.12272727, 1.41363636, 0.2       ]), 2: array([6.25      , 2.86071429, 5.23928571, 1.93571429]), 3: array([5.48333333, 2.59166667, 3.90416667, 1.2       ]), 4: array([6.28148148, 2.92222222, 4.56666667, 1.46296296]), 5: array([7.14285714, 3.14285714, 6.04285714, 2.14761905])}\n",
      "centroids:  {0: array([5.24285714, 3.66785714, 1.5       , 0.28214286]), 1: array([4.70454545, 3.12272727, 1.41363636, 0.2       ]), 2: array([6.27666667, 2.87      , 5.26666667, 1.95      ]), 3: array([5.48333333, 2.59166667, 3.90416667, 1.2       ]), 4: array([6.28148148, 2.92222222, 4.56666667, 1.46296296]), 5: array([7.19473684, 3.15789474, 6.08421053, 2.14736842])}\n",
      "centroids:  {0: array([5.24285714, 3.66785714, 1.5       , 0.28214286]), 1: array([4.70454545, 3.12272727, 1.41363636, 0.2       ]), 2: array([6.31935484, 2.90645161, 5.29032258, 1.98387097]), 3: array([5.48333333, 2.59166667, 3.90416667, 1.2       ]), 4: array([6.27142857, 2.89642857, 4.58214286, 1.46428571]), 5: array([7.24117647, 3.16470588, 6.15294118, 2.13529412])}\n",
      "centroids:  {0: array([5.24285714, 3.66785714, 1.5       , 0.28214286]), 1: array([4.70454545, 3.12272727, 1.41363636, 0.2       ]), 2: array([6.33125 , 2.934375, 5.33125 , 2.01875 ]), 3: array([5.48333333, 2.59166667, 3.90416667, 1.2       ]), 4: array([6.27241379, 2.89310345, 4.6       , 1.46551724]), 5: array([7.34      , 3.14666667, 6.19333333, 2.11333333])}\n"
     ]
    },
    {
     "name": "stdout",
     "output_type": "stream",
     "text": [
      "centroids:  {0: array([5.24285714, 3.66785714, 1.5       , 0.28214286]), 1: array([4.70454545, 3.12272727, 1.41363636, 0.2       ]), 2: array([6.36333333, 2.96      , 5.38      , 2.06333333]), 3: array([5.48333333, 2.59166667, 3.90416667, 1.2       ]), 4: array([6.259375, 2.884375, 4.634375, 1.490625]), 5: array([7.38571429, 3.13571429, 6.22857143, 2.08571429])}\n",
      "centroids:  {0: array([5.24285714, 3.66785714, 1.5       , 0.28214286]), 1: array([4.70454545, 3.12272727, 1.41363636, 0.2       ]), 2: array([6.39655172, 2.97241379, 5.42068966, 2.0862069 ]), 3: array([5.508, 2.6  , 3.908, 1.204]), 4: array([6.25757576, 2.88787879, 4.67272727, 1.51818182]), 5: array([7.42307692, 3.13076923, 6.26923077, 2.06923077])}\n",
      "centroids:  {0: array([5.24285714, 3.66785714, 1.5       , 0.28214286]), 1: array([4.70454545, 3.12272727, 1.41363636, 0.2       ]), 2: array([6.45925926, 3.01481481, 5.48148148, 2.11481481]), 3: array([5.508, 2.6  , 3.908, 1.204]), 4: array([6.23333333, 2.86944444, 4.70277778, 1.55      ]), 5: array([7.475, 3.125, 6.3  , 2.05 ])}\n",
      "centroids:  {0: array([5.24285714, 3.66785714, 1.5       , 0.28214286]), 1: array([4.70454545, 3.12272727, 1.41363636, 0.2       ]), 2: array([6.512, 3.04 , 5.512, 2.132]), 3: array([5.508, 2.6  , 3.908, 1.204]), 4: array([6.21052632, 2.86052632, 4.72368421, 1.56842105]), 5: array([7.475, 3.125, 6.3  , 2.05 ])}\n",
      "centroids:  {0: array([5.24285714, 3.66785714, 1.5       , 0.28214286]), 1: array([4.70454545, 3.12272727, 1.41363636, 0.2       ]), 2: array([6.52916667, 3.05833333, 5.50833333, 2.1625    ]), 3: array([5.508, 2.6  , 3.908, 1.204]), 4: array([6.20769231, 2.85384615, 4.74615385, 1.56410256]), 5: array([7.475, 3.125, 6.3  , 2.05 ])}\n",
      "NO FURTHER UPDATE\n",
      "k= 6 sse= 39.03998724608725\n",
      "[ 42   4  44 122  26 122  35]\n",
      "[ 50  61  91 100  26  62  84]\n",
      "centroids:  {0: array([7. , 3.2, 4.7, 1.4]), 1: array([5.9, 3. , 4.2, 1.5]), 2: array([6.1, 3. , 4.6, 1.4]), 3: array([6.3, 3.3, 6. , 2.5]), 4: array([5. , 3.4, 1.6, 0.4]), 5: array([6. , 2.2, 4. , 1. ]), 6: array([5.4, 3. , 4.5, 1.5])}\n",
      "centroids:  {0: array([6.82222222, 3.06666667, 4.94444444, 1.64444444]), 1: array([5.74444444, 2.86666667, 4.05555556, 1.3       ]), 2: array([6.18571429, 2.86071429, 4.825     , 1.60357143]), 3: array([6.86774194, 3.09354839, 5.8483871 , 2.1516129 ]), 4: array([5.006, 3.428, 1.462, 0.246]), 5: array([5.56      , 2.39333333, 3.8       , 1.12666667]), 6: array([5.45  , 2.7375, 4.525 , 1.575 ])}\n",
      "centroids:  {0: array([6.71818182, 3.04545455, 4.80909091, 1.62727273]), 1: array([5.79166667, 2.83333333, 4.075     , 1.26666667]), 2: array([6.13333333, 2.8       , 4.83703704, 1.63333333]), 3: array([6.91290323, 3.1       , 5.87096774, 2.12580645]), 4: array([5.006, 3.428, 1.462, 0.246]), 5: array([5.375     , 2.4       , 3.65833333, 1.10833333]), 6: array([5.48571429, 2.74285714, 4.61428571, 1.6       ])}\n",
      "centroids:  {0: array([6.65      , 3.05714286, 4.76428571, 1.60714286]), 1: array([5.85      , 2.79285714, 4.08571429, 1.25      ]), 2: array([6.08695652, 2.75652174, 4.89130435, 1.66086957]), 3: array([6.91290323, 3.1       , 5.87096774, 2.12580645]), 4: array([5.006, 3.428, 1.462, 0.246]), 5: array([5.31818182, 2.41818182, 3.62727273, 1.11818182]), 6: array([5.48571429, 2.74285714, 4.61428571, 1.6       ])}\n",
      "centroids:  {0: array([6.63076923, 3.05384615, 4.73846154, 1.55384615]), 1: array([5.88      , 2.76      , 4.10666667, 1.25333333]), 2: array([6.07083333, 2.77083333, 4.94583333, 1.69583333]), 3: array([6.93225806, 3.10645161, 5.85483871, 2.14193548]), 4: array([5.006, 3.428, 1.462, 0.246]), 5: array([5.31818182, 2.41818182, 3.62727273, 1.11818182]), 6: array([5.45      , 2.78333333, 4.55      , 1.53333333])}\n",
      "centroids:  {0: array([6.59230769, 3.08461538, 4.68461538, 1.52307692]), 1: array([5.90666667, 2.76      , 4.16666667, 1.26666667]), 2: array([6.075     , 2.75      , 4.99166667, 1.73333333]), 3: array([6.93225806, 3.10645161, 5.85483871, 2.14193548]), 4: array([5.006, 3.428, 1.462, 0.246]), 5: array([5.34166667, 2.45833333, 3.625     , 1.13333333]), 6: array([5.42, 2.78, 4.48, 1.44])}\n",
      "centroids:  {0: array([6.54666667, 3.06666667, 4.65333333, 1.5       ]), 1: array([5.90625, 2.71875, 4.2125 , 1.275  ]), 2: array([6.08181818, 2.77727273, 5.06818182, 1.78636364]), 3: array([6.95      , 3.10666667, 5.86666667, 2.15333333]), 4: array([5.006, 3.428, 1.462, 0.246]), 5: array([5.34166667, 2.45833333, 3.625     , 1.13333333]), 6: array([5.42, 2.78, 4.48, 1.44])}\n",
      "centroids:  {0: array([6.52      , 3.04666667, 4.62666667, 1.46      ]), 1: array([5.90625, 2.71875, 4.2125 , 1.275  ]), 2: array([6.132, 2.84 , 5.124, 1.852]), 3: array([7.01481481, 3.0962963 , 5.91851852, 2.15555556]), 4: array([5.006, 3.428, 1.462, 0.246]), 5: array([5.34166667, 2.45833333, 3.625     , 1.13333333]), 6: array([5.42, 2.78, 4.48, 1.44])}\n",
      "centroids:  {0: array([6.52      , 3.04666667, 4.62666667, 1.46      ]), 1: array([5.90625, 2.71875, 4.2125 , 1.275  ]), 2: array([6.17142857, 2.84285714, 5.16071429, 1.88928571]), 3: array([7.07916667, 3.125     , 5.975     , 2.15      ]), 4: array([5.006, 3.428, 1.462, 0.246]), 5: array([5.34166667, 2.45833333, 3.625     , 1.13333333]), 6: array([5.42, 2.78, 4.48, 1.44])}\n",
      "centroids:  {0: array([6.52      , 3.04666667, 4.62666667, 1.46      ]), 1: array([5.90625, 2.71875, 4.2125 , 1.275  ]), 2: array([6.2       , 2.87      , 5.17333333, 1.92      ]), 3: array([7.12272727, 3.11363636, 6.03181818, 2.13181818]), 4: array([5.006, 3.428, 1.462, 0.246]), 5: array([5.34166667, 2.45833333, 3.625     , 1.13333333]), 6: array([5.42, 2.78, 4.48, 1.44])}\n",
      "NO FURTHER UPDATE\n",
      "k= 7 sse= 44.65208333333333\n",
      "[90 32 58 38 41 25 14 22]\n",
      "centroids:  {0: array([5.5, 2.6, 4.4, 1.2]), 1: array([5.2, 4.1, 1.5, 0.1]), 2: array([6.6, 2.9, 4.6, 1.3]), 3: array([4.4, 3. , 1.3, 0.2]), 4: array([4.5, 2.3, 1.3, 0.3]), 5: array([5. , 3. , 1.6, 0.2]), 6: array([5.8, 4. , 1.2, 0.2]), 7: array([4.6, 3.6, 1. , 0.2])}\n",
      "centroids:  {0: array([5.57647059, 2.63235294, 4.15      , 1.35588235]), 1: array([5.23636364, 3.83636364, 1.52727273, 0.27272727]), 2: array([6.61515152, 2.99545455, 5.29545455, 1.84090909]), 3: array([4.48571429, 3.08571429, 1.32857143, 0.18571429]), 4: array([4.5, 2.3, 1.3, 0.3]), 5: array([5.        , 3.2826087 , 1.5173913 , 0.24782609]), 6: array([5.675, 3.925, 1.425, 0.275]), 7: array([4.775, 3.525, 1.275, 0.225])}\n",
      "centroids:  {0: array([5.69  , 2.665 , 4.1575, 1.31  ]), 1: array([5.23333333, 3.82222222, 1.55555556, 0.28888889]), 2: array([6.64333333, 3.01      , 5.405     , 1.92      ]), 3: array([4.55555556, 3.06666667, 1.34444444, 0.18888889]), 4: array([4.5, 2.3, 1.3, 0.3]), 5: array([5.01904762, 3.30952381, 1.52857143, 0.25238095]), 6: array([5.64, 3.98, 1.42, 0.26]), 7: array([4.82, 3.54, 1.3 , 0.22])}\n",
      "centroids:  {0: array([5.75116279, 2.69534884, 4.17674419, 1.31860465]), 1: array([5.24444444, 3.77777778, 1.55555556, 0.26666667]), 2: array([6.64736842, 3.00526316, 5.45614035, 1.94561404]), 3: array([4.6       , 3.07272727, 1.37272727, 0.19090909]), 4: array([4.5, 2.3, 1.3, 0.3]), 5: array([5.04210526, 3.33157895, 1.53157895, 0.25789474]), 6: array([5.62, 4.06, 1.42, 0.3 ]), 7: array([4.82, 3.54, 1.3 , 0.22])}\n",
      "centroids:  {0: array([5.79361702, 2.71914894, 4.2212766 , 1.34255319]), 1: array([5.24444444, 3.77777778, 1.55555556, 0.26666667]), 2: array([6.67735849, 3.00754717, 5.51320755, 1.97169811]), 3: array([4.61666667, 3.075     , 1.39166667, 0.19166667]), 4: array([4.5, 2.3, 1.3, 0.3]), 5: array([5.05555556, 3.34444444, 1.52777778, 0.26111111]), 6: array([5.62, 4.06, 1.42, 0.3 ]), 7: array([4.82, 3.54, 1.3 , 0.22])}\n",
      "centroids:  {0: array([5.822, 2.728, 4.256, 1.36 ]), 1: array([5.24444444, 3.77777778, 1.55555556, 0.26666667]), 2: array([6.702, 3.016, 5.556, 1.992]), 3: array([4.63846154, 3.07692308, 1.4       , 0.18461538]), 4: array([4.5, 2.3, 1.3, 0.3]), 5: array([5.06470588, 3.35882353, 1.52941176, 0.27058824]), 6: array([5.62, 4.06, 1.42, 0.3 ]), 7: array([4.82, 3.54, 1.3 , 0.22])}\n",
      "centroids:  {0: array([5.82962963, 2.73148148, 4.31481481, 1.39259259]), 1: array([5.24444444, 3.77777778, 1.55555556, 0.26666667]), 2: array([6.76956522, 3.03695652, 5.6       , 2.00869565]), 3: array([4.65714286, 3.07857143, 1.40714286, 0.18571429]), 4: array([4.5, 2.3, 1.3, 0.3]), 5: array([5.075  , 3.375  , 1.53125, 0.275  ]), 6: array([5.62, 4.06, 1.42, 0.3 ]), 7: array([4.82, 3.54, 1.3 , 0.22])}\n",
      "centroids:  {0: array([5.85438596, 2.74210526, 4.34561404, 1.40877193]), 1: array([5.24444444, 3.77777778, 1.55555556, 0.26666667]), 2: array([6.80232558, 3.04418605, 5.64883721, 2.03023256]), 3: array([4.65714286, 3.07857143, 1.40714286, 0.18571429]), 4: array([4.5, 2.3, 1.3, 0.3]), 5: array([5.075  , 3.375  , 1.53125, 0.275  ]), 6: array([5.62, 4.06, 1.42, 0.3 ]), 7: array([4.82, 3.54, 1.3 , 0.22])}\n",
      "centroids:  {0: array([5.885     , 2.74      , 4.37666667, 1.41833333]), 1: array([5.24444444, 3.77777778, 1.55555556, 0.26666667]), 2: array([6.8275, 3.07  , 5.7   , 2.0625]), 3: array([4.65714286, 3.07857143, 1.40714286, 0.18571429]), 4: array([4.5, 2.3, 1.3, 0.3]), 5: array([5.075  , 3.375  , 1.53125, 0.275  ]), 6: array([5.62, 4.06, 1.42, 0.3 ]), 7: array([4.82, 3.54, 1.3 , 0.22])}\n",
      "centroids:  {0: array([5.88360656, 2.74098361, 4.38852459, 1.43442623]), 1: array([5.24444444, 3.77777778, 1.55555556, 0.26666667]), 2: array([6.85384615, 3.07692308, 5.71538462, 2.05384615]), 3: array([4.65714286, 3.07857143, 1.40714286, 0.18571429]), 4: array([4.5, 2.3, 1.3, 0.3]), 5: array([5.075  , 3.375  , 1.53125, 0.275  ]), 6: array([5.62, 4.06, 1.42, 0.3 ]), 7: array([4.82, 3.54, 1.3 , 0.22])}\n",
      "NO FURTHER UPDATE\n"
     ]
    },
    {
     "name": "stdout",
     "output_type": "stream",
     "text": [
      "k= 8 sse= 67.60932654026298\n",
      "[110  79 104   1 112 138 126 109 136]\n",
      "centroids:  {0: array([6.5, 3.2, 5.1, 2. ]), 1: array([5.7, 2.6, 3.5, 1. ]), 2: array([6.5, 3. , 5.8, 2.2]), 3: array([4.9, 3. , 1.4, 0.2]), 4: array([6.8, 3. , 5.5, 2.1]), 5: array([6. , 3. , 4.8, 1.8]), 6: array([6.2, 2.8, 4.8, 1.8]), 7: array([7.2, 3.6, 6.1, 2.5]), 8: array([6.3, 3.4, 5.6, 2.4])}\n",
      "centroids:  {0: array([6.62857143, 3.11428571, 5.1       , 1.81428571]), 1: array([5.53913043, 2.58695652, 3.85652174, 1.16956522]), 2: array([6.48, 2.94, 5.7 , 2.12]), 3: array([5.006, 3.428, 1.462, 0.246]), 4: array([6.92857143, 3.01428571, 5.68571429, 2.02857143]), 5: array([5.85 , 2.935, 4.725, 1.695]), 6: array([6.35 , 2.715, 4.77 , 1.5  ]), 7: array([7.64285714, 3.22857143, 6.5       , 2.2       ]), 8: array([6.375, 3.35 , 5.675, 2.425])}\n",
      "centroids:  {0: array([6.7       , 3.04444444, 5.02222222, 1.84444444]), 1: array([5.5125    , 2.58333333, 3.88333333, 1.19166667]), 2: array([6.4875, 2.9   , 5.625 , 2.0125]), 3: array([5.006, 3.428, 1.462, 0.246]), 4: array([7.        , 3.08888889, 5.77777778, 2.03333333]), 5: array([5.86666667, 2.93333333, 4.77222222, 1.71666667]), 6: array([6.33684211, 2.73157895, 4.71052632, 1.46842105]), 7: array([7.6   , 3.1875, 6.475 , 2.15  ]), 8: array([6.38, 3.32, 5.6 , 2.4 ])}\n",
      "centroids:  {0: array([6.7375, 3.0875, 4.9875, 1.8375]), 1: array([5.5125    , 2.58333333, 3.88333333, 1.19166667]), 2: array([6.41111111, 2.82222222, 5.58888889, 1.88888889]), 3: array([5.006, 3.428, 1.462, 0.246]), 4: array([7.        , 3.08888889, 5.77777778, 2.03333333]), 5: array([5.87222222, 2.92222222, 4.78333333, 1.73888889]), 6: array([6.34444444, 2.75      , 4.65      , 1.45      ]), 7: array([7.6   , 3.1875, 6.475 , 2.15  ]), 8: array([6.43333333, 3.28333333, 5.6       , 2.4       ])}\n",
      "centroids:  {0: array([6.7375, 3.0875, 4.9875, 1.8375]), 1: array([5.5125    , 2.58333333, 3.88333333, 1.19166667]), 2: array([6.4   , 2.8   , 5.5625, 1.85  ]), 3: array([5.006, 3.428, 1.462, 0.246]), 4: array([7.        , 3.08888889, 5.77777778, 2.03333333]), 5: array([5.84705882, 2.9       , 4.78823529, 1.74705882]), 6: array([6.34210526, 2.77894737, 4.65263158, 1.45789474]), 7: array([7.6   , 3.1875, 6.475 , 2.15  ]), 8: array([6.44285714, 3.24285714, 5.62857143, 2.37142857])}\n",
      "centroids:  {0: array([6.7375, 3.0875, 4.9875, 1.8375]), 1: array([5.5125    , 2.58333333, 3.88333333, 1.19166667]), 2: array([6.4   , 2.8   , 5.5625, 1.85  ]), 3: array([5.006, 3.428, 1.462, 0.246]), 4: array([7.        , 3.08888889, 5.77777778, 2.03333333]), 5: array([5.8375 , 2.9    , 4.80625, 1.7625 ]), 6: array([6.325, 2.785, 4.645, 1.46 ]), 7: array([7.6   , 3.1875, 6.475 , 2.15  ]), 8: array([6.44285714, 3.24285714, 5.62857143, 2.37142857])}\n",
      "centroids:  {0: array([6.7375, 3.0875, 4.9875, 1.8375]), 1: array([5.5125    , 2.58333333, 3.88333333, 1.19166667]), 2: array([6.4   , 2.8   , 5.5625, 1.85  ]), 3: array([5.006, 3.428, 1.462, 0.246]), 4: array([7.        , 3.08888889, 5.77777778, 2.03333333]), 5: array([5.83333333, 2.89333333, 4.84666667, 1.78      ]), 6: array([6.3047619 , 2.7952381 , 4.62380952, 1.46190476]), 7: array([7.6   , 3.1875, 6.475 , 2.15  ]), 8: array([6.44285714, 3.24285714, 5.62857143, 2.37142857])}\n",
      "centroids:  {0: array([6.7375, 3.0875, 4.9875, 1.8375]), 1: array([5.5125    , 2.58333333, 3.88333333, 1.19166667]), 2: array([6.4   , 2.8   , 5.5625, 1.85  ]), 3: array([5.006, 3.428, 1.462, 0.246]), 4: array([7.        , 3.08888889, 5.77777778, 2.03333333]), 5: array([5.8625 , 2.86875, 4.85625, 1.7875 ]), 6: array([6.305, 2.81 , 4.605, 1.44 ]), 7: array([7.6   , 3.1875, 6.475 , 2.15  ]), 8: array([6.44285714, 3.24285714, 5.62857143, 2.37142857])}\n",
      "centroids:  {0: array([6.7375, 3.0875, 4.9875, 1.8375]), 1: array([5.5125    , 2.58333333, 3.88333333, 1.19166667]), 2: array([6.4   , 2.8   , 5.5625, 1.85  ]), 3: array([5.006, 3.428, 1.462, 0.246]), 4: array([7.        , 3.08888889, 5.77777778, 2.03333333]), 5: array([5.89444444, 2.82222222, 4.86666667, 1.77222222]), 6: array([6.32222222, 2.85      , 4.56666667, 1.41666667]), 7: array([7.6   , 3.1875, 6.475 , 2.15  ]), 8: array([6.44285714, 3.24285714, 5.62857143, 2.37142857])}\n",
      "centroids:  {0: array([6.7375, 3.0875, 4.9875, 1.8375]), 1: array([5.48695652, 2.57391304, 3.87826087, 1.18695652]), 2: array([6.4   , 2.8   , 5.5625, 1.85  ]), 3: array([5.006, 3.428, 1.462, 0.246]), 4: array([7.        , 3.08888889, 5.77777778, 2.03333333]), 5: array([5.91111111, 2.78888889, 4.9       , 1.76666667]), 6: array([6.29473684, 2.87894737, 4.50526316, 1.41578947]), 7: array([7.6   , 3.1875, 6.475 , 2.15  ]), 8: array([6.44285714, 3.24285714, 5.62857143, 2.37142857])}\n",
      "centroids:  {0: array([6.74444444, 3.05555556, 4.96666667, 1.78888889]), 1: array([5.48695652, 2.57391304, 3.87826087, 1.18695652]), 2: array([6.4   , 2.8   , 5.5625, 1.85  ]), 3: array([5.006, 3.428, 1.462, 0.246]), 4: array([7.        , 3.08888889, 5.77777778, 2.03333333]), 5: array([5.94444444, 2.77222222, 4.92222222, 1.77777778]), 6: array([6.23333333, 2.9       , 4.46666667, 1.40555556]), 7: array([7.6   , 3.1875, 6.475 , 2.15  ]), 8: array([6.44285714, 3.24285714, 5.62857143, 2.37142857])}\n",
      "centroids:  {0: array([6.75  , 3.0625, 4.9375, 1.725 ]), 1: array([5.48695652, 2.57391304, 3.87826087, 1.18695652]), 2: array([6.4   , 2.8   , 5.5625, 1.85  ]), 3: array([5.006, 3.428, 1.462, 0.246]), 4: array([7.        , 3.08888889, 5.77777778, 2.03333333]), 5: array([5.96470588, 2.75882353, 4.94705882, 1.79411765]), 6: array([6.2       , 2.90526316, 4.46842105, 1.41052632]), 7: array([7.6   , 3.1875, 6.475 , 2.15  ]), 8: array([6.475 , 3.2125, 5.575 , 2.3625])}\n",
      "centroids:  {0: array([6.78571429, 3.07142857, 4.9       , 1.68571429]), 1: array([5.48695652, 2.57391304, 3.87826087, 1.18695652]), 2: array([6.41111111, 2.82222222, 5.52222222, 1.86666667]), 3: array([5.006, 3.428, 1.462, 0.246]), 4: array([7.0375, 3.0625, 5.7875, 2.025 ]), 5: array([6.     , 2.74375, 4.975  , 1.8125 ]), 6: array([6.16 , 2.91 , 4.47 , 1.415]), 7: array([7.6   , 3.1875, 6.475 , 2.15  ]), 8: array([6.5       , 3.22222222, 5.58888889, 2.33333333])}\n",
      "centroids:  {0: array([6.76666667, 3.06666667, 4.86666667, 1.58333333]), 1: array([5.48695652, 2.57391304, 3.87826087, 1.18695652]), 2: array([6.41111111, 2.82222222, 5.52222222, 1.86666667]), 3: array([5.006, 3.428, 1.462, 0.246]), 4: array([7.0375, 3.0625, 5.7875, 2.025 ]), 5: array([6.     , 2.74375, 4.975  , 1.8125 ]), 6: array([6.16 , 2.91 , 4.47 , 1.415]), 7: array([7.6   , 3.1875, 6.475 , 2.15  ]), 8: array([6.54, 3.21, 5.54, 2.33])}\n",
      "centroids:  {0: array([6.77142857, 3.02857143, 4.72857143, 1.45714286]), 1: array([5.48695652, 2.57391304, 3.87826087, 1.18695652]), 2: array([6.41111111, 2.82222222, 5.52222222, 1.86666667]), 3: array([5.006, 3.428, 1.462, 0.246]), 4: array([7.0375, 3.0625, 5.7875, 2.025 ]), 5: array([6.     , 2.74375, 4.975  , 1.8125 ]), 6: array([6.10555556, 2.9       , 4.46666667, 1.42222222]), 7: array([7.6   , 3.1875, 6.475 , 2.15  ]), 8: array([6.53636364, 3.20909091, 5.5       , 2.3       ])}\n",
      "centroids:  {0: array([6.72222222, 3.        , 4.67777778, 1.45555556]), 1: array([5.46666667, 2.53809524, 3.84761905, 1.18095238]), 2: array([6.41111111, 2.82222222, 5.52222222, 1.86666667]), 3: array([5.006, 3.428, 1.462, 0.246]), 4: array([7.0375, 3.0625, 5.7875, 2.025 ]), 5: array([6.     , 2.74375, 4.975  , 1.8125 ]), 6: array([6.01111111, 2.90555556, 4.43333333, 1.4       ]), 7: array([7.6   , 3.1875, 6.475 , 2.15  ]), 8: array([6.53636364, 3.20909091, 5.5       , 2.3       ])}\n",
      "centroids:  {0: array([6.65454545, 3.04545455, 4.66363636, 1.47272727]), 1: array([5.46 , 2.515, 3.835, 1.175]), 2: array([6.41111111, 2.82222222, 5.52222222, 1.86666667]), 3: array([5.006, 3.428, 1.462, 0.246]), 4: array([7.0375, 3.0625, 5.7875, 2.025 ]), 5: array([6.     , 2.74375, 4.975  , 1.8125 ]), 6: array([5.94705882, 2.87058824, 4.39411765, 1.37647059]), 7: array([7.6   , 3.1875, 6.475 , 2.15  ]), 8: array([6.53636364, 3.20909091, 5.5       , 2.3       ])}\n",
      "centroids:  {0: array([6.65454545, 3.04545455, 4.66363636, 1.47272727]), 1: array([5.43529412, 2.48235294, 3.76470588, 1.15882353]), 2: array([6.41111111, 2.82222222, 5.52222222, 1.86666667]), 3: array([5.006, 3.428, 1.462, 0.246]), 4: array([7.0375, 3.0625, 5.7875, 2.025 ]), 5: array([6.     , 2.74375, 4.975  , 1.8125 ]), 6: array([5.895, 2.845, 4.37 , 1.36 ]), 7: array([7.6   , 3.1875, 6.475 , 2.15  ]), 8: array([6.53636364, 3.20909091, 5.5       , 2.3       ])}\n",
      "centroids:  {0: array([6.63333333, 3.03333333, 4.63333333, 1.45833333]), 1: array([5.4125 , 2.46875, 3.74375, 1.16875]), 2: array([6.41111111, 2.82222222, 5.52222222, 1.86666667]), 3: array([5.006, 3.428, 1.462, 0.246]), 4: array([7.0375, 3.0625, 5.7875, 2.025 ]), 5: array([6.     , 2.74375, 4.975  , 1.8125 ]), 6: array([5.865, 2.835, 4.36 , 1.345]), 7: array([7.6   , 3.1875, 6.475 , 2.15  ]), 8: array([6.53636364, 3.20909091, 5.5       , 2.3       ])}\n",
      "centroids:  {0: array([6.63333333, 3.03333333, 4.63333333, 1.45833333]), 1: array([5.38666667, 2.46      , 3.72666667, 1.16666667]), 2: array([6.41111111, 2.82222222, 5.52222222, 1.86666667]), 3: array([5.006, 3.428, 1.462, 0.246]), 4: array([7.0375, 3.0625, 5.7875, 2.025 ]), 5: array([6.     , 2.74375, 4.975  , 1.8125 ]), 6: array([5.86190476, 2.82380952, 4.34285714, 1.33809524]), 7: array([7.6   , 3.1875, 6.475 , 2.15  ]), 8: array([6.53636364, 3.20909091, 5.5       , 2.3       ])}\n",
      "centroids:  {0: array([6.63333333, 3.03333333, 4.63333333, 1.45833333]), 1: array([5.35714286, 2.44285714, 3.71428571, 1.16428571]), 2: array([6.41111111, 2.82222222, 5.52222222, 1.86666667]), 3: array([5.006, 3.428, 1.462, 0.246]), 4: array([7.0375, 3.0625, 5.7875, 2.025 ]), 5: array([6.     , 2.74375, 4.975  , 1.8125 ]), 6: array([5.85909091, 2.81818182, 4.32272727, 1.33181818]), 7: array([7.6   , 3.1875, 6.475 , 2.15  ]), 8: array([6.53636364, 3.20909091, 5.5       , 2.3       ])}\n",
      "NO FURTHER UPDATE\n",
      "k= 9 sse= 35.356716991342005\n",
      "[  0  80 139  90  66 146  59 112 138  84]\n",
      "centroids:  {0: array([5.1, 3.5, 1.4, 0.2]), 1: array([5.5, 2.4, 3.8, 1.1]), 2: array([6.9, 3.1, 5.4, 2.1]), 3: array([5.5, 2.6, 4.4, 1.2]), 4: array([5.6, 3. , 4.5, 1.5]), 5: array([6.3, 2.5, 5. , 1.9]), 6: array([5.2, 2.7, 3.9, 1.4]), 7: array([6.8, 3. , 5.5, 2.1]), 8: array([6. , 3. , 4.8, 1.8]), 9: array([5.4, 3. , 4.5, 1.5])}\n",
      "centroids:  {0: array([5.006, 3.428, 1.462, 0.246]), 1: array([5.45384615, 2.41538462, 3.68461538, 1.1       ]), 2: array([7.1       , 3.26363636, 5.51818182, 2.02727273]), 3: array([5.83333333, 2.65      , 4.2       , 1.23333333]), 4: array([5.8   , 2.9375, 4.3125, 1.3625]), 5: array([6.24, 2.55, 5.01, 1.64]), 6: array([5.4 , 2.8 , 3.75, 1.35]), 7: array([6.79615385, 3.03076923, 5.81923077, 2.09615385]), 8: array([6.16363636, 2.95909091, 4.74545455, 1.63181818]), 9: array([5.15, 2.75, 4.5 , 1.6 ])}\n",
      "centroids:  {0: array([5.006, 3.428, 1.462, 0.246]), 1: array([5.33, 2.39, 3.6 , 1.09]), 2: array([7.26666667, 3.28888889, 5.86666667, 2.12222222]), 3: array([5.84444444, 2.6       , 4.12222222, 1.2       ]), 4: array([5.86666667, 2.93333333, 4.31111111, 1.35555556]), 5: array([6.15333333, 2.62666667, 5.04666667, 1.74666667]), 6: array([5.4 , 2.8 , 3.75, 1.35]), 7: array([6.77391304, 3.02608696, 5.83913043, 2.13478261]), 8: array([6.32857143, 3.03809524, 4.73333333, 1.59047619]), 9: array([5.15, 2.75, 4.5 , 1.6 ])}\n",
      "centroids:  {0: array([5.006, 3.428, 1.462, 0.246]), 1: array([5.24285714, 2.37142857, 3.44285714, 1.02857143]), 2: array([7.50909091, 3.13636364, 6.33636364, 2.04545455]), 3: array([5.8       , 2.53076923, 4.11538462, 1.23076923]), 4: array([5.89, 2.92, 4.35, 1.34]), 5: array([6.07647059, 2.7       , 5.10588235, 1.80588235]), 6: array([5.4 , 2.8 , 3.75, 1.35]), 7: array([6.615, 3.09 , 5.59 , 2.195]), 8: array([6.43888889, 3.06666667, 4.70555556, 1.55555556]), 9: array([5.15, 2.75, 4.5 , 1.6 ])}\n"
     ]
    },
    {
     "name": "stdout",
     "output_type": "stream",
     "text": [
      "centroids:  {0: array([5.006, 3.428, 1.462, 0.246]), 1: array([5.24285714, 2.37142857, 3.44285714, 1.02857143]), 2: array([7.50909091, 3.13636364, 6.33636364, 2.04545455]), 3: array([5.8       , 2.53076923, 4.11538462, 1.23076923]), 4: array([5.87272727, 2.97272727, 4.39090909, 1.37272727]), 5: array([6.02777778, 2.73333333, 5.02777778, 1.79444444]), 6: array([5.4 , 2.8 , 3.75, 1.35]), 7: array([6.59130435, 3.0826087 , 5.55217391, 2.16086957]), 8: array([6.59230769, 3.02307692, 4.63846154, 1.45384615]), 9: array([5.15, 2.75, 4.5 , 1.6 ])}\n",
      "centroids:  {0: array([5.006, 3.428, 1.462, 0.246]), 1: array([5.24285714, 2.37142857, 3.44285714, 1.02857143]), 2: array([7.475, 3.125, 6.3  , 2.05 ]), 3: array([5.8       , 2.53076923, 4.11538462, 1.23076923]), 4: array([5.89166667, 2.96666667, 4.41666667, 1.375     ]), 5: array([6.02777778, 2.73333333, 5.02777778, 1.79444444]), 6: array([5.4 , 2.8 , 3.75, 1.35]), 7: array([6.56818182, 3.08636364, 5.53636364, 2.16363636]), 8: array([6.63333333, 3.03333333, 4.63333333, 1.45833333]), 9: array([5.15, 2.75, 4.5 , 1.6 ])}\n",
      "NO FURTHER UPDATE\n",
      "k= 10 sse= 34.32245271395273\n",
      "[  0  32   9 112  55  95  19   5  38  98  42]\n",
      "centroids:  {0: array([5.1, 3.5, 1.4, 0.2]), 1: array([5.2, 4.1, 1.5, 0.1]), 2: array([4.9, 3.1, 1.5, 0.1]), 3: array([6.8, 3. , 5.5, 2.1]), 4: array([5.7, 2.8, 4.5, 1.3]), 5: array([5.7, 3. , 4.2, 1.2]), 6: array([5.1, 3.8, 1.5, 0.3]), 7: array([5.4, 3.9, 1.7, 0.4]), 8: array([4.4, 3. , 1.3, 0.2]), 9: array([5.1, 2.5, 3. , 1.1]), 10: array([4.4, 3.2, 1.3, 0.2])}\n",
      "centroids:  {0: array([5.13333333, 3.44666667, 1.46666667, 0.25333333]), 1: array([5.35, 4.15, 1.45, 0.15]), 2: array([4.85454545, 3.13636364, 1.51818182, 0.19090909]), 3: array([6.81162791, 3.05116279, 5.63953488, 2.03023256]), 4: array([5.97878788, 2.75757576, 4.67575758, 1.54848485]), 5: array([5.82222222, 2.82222222, 4.08333333, 1.28333333]), 6: array([5.2       , 3.72857143, 1.5       , 0.32857143]), 7: array([5.54, 3.98, 1.6 , 0.34]), 8: array([4.44, 2.86, 1.32, 0.2 ]), 9: array([5.2       , 2.36666667, 3.38333333, 1.01666667]), 10: array([4.58, 3.32, 1.28, 0.22])}\n",
      "centroids:  {0: array([5.125, 3.45 , 1.475, 0.275]), 1: array([5.35, 4.15, 1.45, 0.15]), 2: array([4.83333333, 3.13333333, 1.51666667, 0.19166667]), 3: array([6.87027027, 3.08648649, 5.74594595, 2.08918919]), 4: array([6.11081081, 2.82972973, 4.77027027, 1.6027027 ]), 5: array([5.74736842, 2.72105263, 4.07368421, 1.25263158]), 6: array([5.21428571, 3.77142857, 1.54285714, 0.3       ]), 7: array([5.65 , 4.025, 1.525, 0.325]), 8: array([4.4  , 2.8  , 1.275, 0.2  ]), 9: array([5.24285714, 2.37142857, 3.44285714, 1.02857143]), 10: array([4.58, 3.32, 1.28, 0.22])}\n",
      "centroids:  {0: array([5.125, 3.45 , 1.475, 0.275]), 1: array([5.35, 4.15, 1.45, 0.15]), 2: array([4.83333333, 3.13333333, 1.51666667, 0.19166667]), 3: array([6.9       , 3.0969697 , 5.82727273, 2.12727273]), 4: array([6.24736842, 2.85      , 4.81842105, 1.62368421]), 5: array([5.65454545, 2.73181818, 4.14090909, 1.29545455]), 6: array([5.2375, 3.7875, 1.5625, 0.3125]), 7: array([5.73333333, 4.06666667, 1.46666667, 0.3       ]), 8: array([4.4  , 2.8  , 1.275, 0.2  ]), 9: array([5.24285714, 2.37142857, 3.44285714, 1.02857143]), 10: array([4.58, 3.32, 1.28, 0.22])}\n",
      "centroids:  {0: array([5.125, 3.45 , 1.475, 0.275]), 1: array([5.35, 4.15, 1.45, 0.15]), 2: array([4.83333333, 3.13333333, 1.51666667, 0.19166667]), 3: array([6.9125  , 3.1     , 5.846875, 2.13125 ]), 4: array([6.25384615, 2.85384615, 4.82820513, 1.63333333]), 5: array([5.65454545, 2.73181818, 4.14090909, 1.29545455]), 6: array([5.2375, 3.7875, 1.5625, 0.3125]), 7: array([5.73333333, 4.06666667, 1.46666667, 0.3       ]), 8: array([4.4  , 2.8  , 1.275, 0.2  ]), 9: array([5.24285714, 2.37142857, 3.44285714, 1.02857143]), 10: array([4.58, 3.32, 1.28, 0.22])}\n",
      "NO FURTHER UPDATE\n",
      "k= 11 sse= 41.154448489010974\n",
      "[101  52  86 135  28  77 127 124 113  51 109  19]\n",
      "centroids:  {0: array([5.8, 2.7, 5.1, 1.9]), 1: array([6.9, 3.1, 4.9, 1.5]), 2: array([6.7, 3.1, 4.7, 1.5]), 3: array([7.7, 3. , 6.1, 2.3]), 4: array([5.2, 3.4, 1.4, 0.2]), 5: array([6.7, 3. , 5. , 1.7]), 6: array([6.1, 3. , 4.9, 1.8]), 7: array([6.7, 3.3, 5.7, 2.1]), 8: array([5.7, 2.5, 5. , 2. ]), 9: array([6.4, 3.2, 4.5, 1.5]), 10: array([7.2, 3.6, 6.1, 2.5]), 11: array([5.1, 3.8, 1.5, 0.3])}\n",
      "centroids:  {0: array([5.91428571, 2.68571429, 5.12857143, 1.87142857]), 1: array([6.95, 3.15, 4.8 , 1.45]), 2: array([6.66, 2.94, 4.62, 1.42]), 3: array([7.61428571, 2.98571429, 6.44285714, 2.05714286]), 4: array([4.88529412, 3.2       , 1.49705882, 0.25294118]), 5: array([6.6 , 3.  , 5.14, 1.98]), 6: array([5.98333333, 2.89166667, 4.79166667, 1.625     ]), 7: array([6.64090909, 3.08181818, 5.64090909, 2.12727273]), 8: array([5.4       , 2.38181818, 4.12727273, 1.35454545]), 9: array([5.92307692, 2.80384615, 4.16923077, 1.27692308]), 10: array([7.45, 3.7 , 6.4 , 2.35]), 11: array([5.25294118, 3.82941176, 1.48235294, 0.28235294])}\n",
      "centroids:  {0: array([5.9 , 2.65, 5.1 , 1.84]), 1: array([6.95, 3.15, 4.8 , 1.45]), 2: array([6.5875, 2.975 , 4.5375, 1.4125]), 3: array([7.51428571, 2.9       , 6.38571429, 2.02857143]), 4: array([4.79333333, 3.20666667, 1.43666667, 0.23      ]), 5: array([6.58571429, 3.02857143, 5.17142857, 2.07142857]), 6: array([6.04666667, 2.95333333, 4.72666667, 1.58      ]), 7: array([6.62105263, 3.07368421, 5.66315789, 2.12631579]), 8: array([5.26666667, 2.425     , 3.775     , 1.18333333]), 9: array([5.84705882, 2.71176471, 4.10588235, 1.25294118]), 10: array([7.6       , 3.73333333, 6.4       , 2.23333333]), 11: array([5.325, 3.76 , 1.5  , 0.27 ])}\n",
      "centroids:  {0: array([5.93636364, 2.65454545, 5.08181818, 1.83636364]), 1: array([6.95, 3.15, 4.8 , 1.45]), 2: array([6.5875, 2.975 , 4.5375, 1.4125]), 3: array([7.475 , 2.9125, 6.3125, 1.975 ]), 4: array([4.77142857, 3.18928571, 1.43214286, 0.21785714]), 5: array([6.58571429, 3.02857143, 5.17142857, 2.07142857]), 6: array([6.02857143, 2.97142857, 4.71428571, 1.56428571]), 7: array([6.58888889, 3.07777778, 5.65555556, 2.15555556]), 8: array([5.28333333, 2.425     , 3.7       , 1.16666667]), 9: array([5.83529412, 2.71176471, 4.15882353, 1.26470588]), 10: array([7.6       , 3.73333333, 6.4       , 2.23333333]), 11: array([5.30454545, 3.73181818, 1.5       , 0.28181818])}\n",
      "centroids:  {0: array([5.96666667, 2.64166667, 5.06666667, 1.80833333]), 1: array([6.95, 3.15, 4.8 , 1.45]), 2: array([6.5875, 2.975 , 4.5375, 1.4125]), 3: array([7.475 , 2.9125, 6.3125, 1.975 ]), 4: array([4.77142857, 3.18928571, 1.43214286, 0.21785714]), 5: array([6.625 , 3.0375, 5.2   , 2.075 ]), 6: array([6.05833333, 3.00833333, 4.71666667, 1.575     ]), 7: array([6.57058824, 3.07647059, 5.67058824, 2.15882353]), 8: array([5.30769231, 2.46153846, 3.69230769, 1.17692308]), 9: array([5.82352941, 2.71764706, 4.21176471, 1.27647059]), 10: array([7.6       , 3.73333333, 6.4       , 2.23333333]), 11: array([5.30454545, 3.73181818, 1.5       , 0.28181818])}\n",
      "centroids:  {0: array([5.99230769, 2.65384615, 5.06923077, 1.78461538]), 1: array([6.86666667, 3.1       , 4.86666667, 1.53333333]), 2: array([6.5875, 2.975 , 4.5375, 1.4125]), 3: array([7.43333333, 2.92222222, 6.26666667, 1.98888889]), 4: array([4.77142857, 3.18928571, 1.43214286, 0.21785714]), 5: array([6.61428571, 3.04285714, 5.22857143, 2.12857143]), 6: array([6.03636364, 3.02727273, 4.68181818, 1.58181818]), 7: array([6.5375 , 3.08125, 5.65625, 2.1625 ]), 8: array([5.30769231, 2.46153846, 3.69230769, 1.17692308]), 9: array([5.82352941, 2.71764706, 4.21176471, 1.27647059]), 10: array([7.6       , 3.73333333, 6.4       , 2.23333333]), 11: array([5.30454545, 3.73181818, 1.5       , 0.28181818])}\n",
      "centroids:  {0: array([6.00714286, 2.66428571, 5.05      , 1.78571429]), 1: array([6.82, 3.04, 4.82, 1.5 ]), 2: array([6.53333333, 2.98333333, 4.46666667, 1.4       ]), 3: array([7.43333333, 2.92222222, 6.26666667, 1.98888889]), 4: array([4.77142857, 3.18928571, 1.43214286, 0.21785714]), 5: array([6.61428571, 3.04285714, 5.22857143, 2.12857143]), 6: array([6.02, 3.05, 4.67, 1.56]), 7: array([6.5375 , 3.08125, 5.65625, 2.1625 ]), 8: array([5.30769231, 2.46153846, 3.69230769, 1.17692308]), 9: array([5.82352941, 2.71764706, 4.21176471, 1.27647059]), 10: array([7.6       , 3.73333333, 6.4       , 2.23333333]), 11: array([5.30454545, 3.73181818, 1.5       , 0.28181818])}\n",
      "centroids:  {0: array([6.00714286, 2.66428571, 5.05      , 1.78571429]), 1: array([6.82, 3.04, 4.82, 1.5 ]), 2: array([6.48571429, 2.97142857, 4.44285714, 1.38571429]), 3: array([7.43333333, 2.92222222, 6.26666667, 1.98888889]), 4: array([4.77142857, 3.18928571, 1.43214286, 0.21785714]), 5: array([6.61428571, 3.04285714, 5.22857143, 2.12857143]), 6: array([6.02, 3.05, 4.67, 1.56]), 7: array([6.5375 , 3.08125, 5.65625, 2.1625 ]), 8: array([5.30769231, 2.46153846, 3.69230769, 1.17692308]), 9: array([5.8    , 2.70625, 4.20625, 1.275  ]), 10: array([7.6       , 3.73333333, 6.4       , 2.23333333]), 11: array([5.30454545, 3.73181818, 1.5       , 0.28181818])}\n",
      "NO FURTHER UPDATE\n",
      "k= 12 sse= 25.984085470085468\n"
     ]
    }
   ],
   "source": [
    "nitr=200\n",
    "sses={}\n",
    "for k in range(1,13):                                                       #trying for different k value.\n",
    "    \n",
    "    centroids=get_random_centroids(k)\n",
    "    old_centroids={}\n",
    "    \n",
    "    for i in range(nitr):\n",
    "        clusters={}\n",
    "        for ik,iv in centroids.items():\n",
    "            clusters[ik]=[]\n",
    "\n",
    "        print('centroids: ',centroids)\n",
    "        \n",
    "        for xx in x:\n",
    "            dists=[e_dist(xx,v) for k,v in centroids.items() ] #k distance from k centroid.\n",
    "            closest=dists.index( min(dists) )\n",
    "            clusters[closest].append(xx)\n",
    "\n",
    "            \n",
    "        for ik in range(k):\n",
    "            old_centroids[ik]=centroids[ik].copy()\n",
    "            \n",
    "            \n",
    "        #update centroids.\n",
    "        nc={}\n",
    "        for ik in range(k):\n",
    "            avg_c=np.array(clusters[ik]).mean(axis=0)\n",
    "            nc[ik]=avg_c  #average.\n",
    "            centroids[ik]=avg_c\n",
    "            \n",
    "            \n",
    "\n",
    "        #checking centroids update.\n",
    "        nupdate=0\n",
    "        for ik in range(k):\n",
    "            if e_dist( centroids[ik], old_centroids[ik] ) > 0:\n",
    "                nupdate+=1\n",
    "        if nupdate==0:\n",
    "            print('NO FURTHER UPDATE')\n",
    "            break\n",
    "            \n",
    "            \n",
    "    sse=0               # Sum of Squared Error\n",
    "    for cluster,centroid in zip(clusters.values() ,centroids.values()):\n",
    "        for xx in cluster:\n",
    "            d=e_dist(xx, centroid)\n",
    "            sse+=d*d\n",
    "    print('k=',k, 'sse=',sse)\n",
    "    sses[k]=sse\n",
    "    \n",
    "    "
   ]
  },
  {
   "cell_type": "code",
   "execution_count": 18,
   "metadata": {},
   "outputs": [
    {
     "data": {
      "text/plain": [
       "{1: 681.3706000000001,\n",
       " 2: 152.34795176035794,\n",
       " 3: 78.85566582597723,\n",
       " 4: 71.76373890975627,\n",
       " 5: 52.99335416666664,\n",
       " 6: 39.03998724608725,\n",
       " 7: 44.65208333333333,\n",
       " 8: 67.60932654026298,\n",
       " 9: 35.356716991342005,\n",
       " 10: 34.32245271395273,\n",
       " 11: 41.154448489010974,\n",
       " 12: 25.984085470085468}"
      ]
     },
     "execution_count": 18,
     "metadata": {},
     "output_type": "execute_result"
    }
   ],
   "source": [
    "sses"
   ]
  },
  {
   "cell_type": "code",
   "execution_count": 19,
   "metadata": {},
   "outputs": [
    {
     "name": "stdout",
     "output_type": "stream",
     "text": [
      "[1, 2, 3, 4, 5, 6, 7, 8, 9, 10, 11, 12]\n"
     ]
    }
   ],
   "source": [
    "ks=[i+1 for i in range(len(sses.values()))]\n",
    "print(ks)"
   ]
  },
  {
   "cell_type": "code",
   "execution_count": 20,
   "metadata": {},
   "outputs": [
    {
     "data": {
      "image/png": "[encoded data removed]",
      "text/plain": [
       "<Figure size 432x288 with 1 Axes>"
      ]
     },
     "metadata": {
      "needs_background": "light"
     },
     "output_type": "display_data"
    }
   ],
   "source": [
    "plt.plot(ks, sses.values())\n",
    "plt.title('k vs sse')\n",
    "plt.show()"
   ]
  },
  {
   "cell_type": "code",
   "execution_count": null,
   "metadata": {},
   "outputs": [],
   "source": []
  },
  {
   "cell_type": "code",
   "execution_count": null,
   "metadata": {},
   "outputs": [],
   "source": []
  }
 ],
 "metadata": {
  "kernelspec": {
   "display_name": "Python 3",
   "language": "python",
   "name": "python3"
  },
  "language_info": {
   "codemirror_mode": {
    "name": "ipython",
    "version": 3
   },
   "file_extension": ".py",
   "mimetype": "text/x-python",
   "name": "python",
   "nbconvert_exporter": "python",
   "pygments_lexer": "ipython3",
   "version": "3.7.1"
  }
 },
 "nbformat": 4,
 "nbformat_minor": 2
}
